{
 "cells": [
  {
   "cell_type": "code",
   "execution_count": 1,
   "id": "single-registrar",
   "metadata": {
    "_cell_guid": "b1076dfc-b9ad-4769-8c92-a6c4dae69d19",
    "_uuid": "8f2839f25d086af736a60e9eeb907d3b93b6e0e5",
    "execution": {
     "iopub.execute_input": "2021-05-10T23:59:19.334953Z",
     "iopub.status.busy": "2021-05-10T23:59:19.333726Z",
     "iopub.status.idle": "2021-05-10T23:59:19.336910Z",
     "shell.execute_reply": "2021-05-10T23:59:19.336432Z"
    },
    "papermill": {
     "duration": 0.030913,
     "end_time": "2021-05-10T23:59:19.337028",
     "exception": false,
     "start_time": "2021-05-10T23:59:19.306115",
     "status": "completed"
    },
    "tags": []
   },
   "outputs": [],
   "source": [
    "# check if you have dataset \n",
    "# if not add dataset\n",
    "# Turn on you GPU"
   ]
  },
  {
   "cell_type": "code",
   "execution_count": 2,
   "id": "moving-suite",
   "metadata": {
    "execution": {
     "iopub.execute_input": "2021-05-10T23:59:19.390117Z",
     "iopub.status.busy": "2021-05-10T23:59:19.389496Z",
     "iopub.status.idle": "2021-05-10T23:59:24.827721Z",
     "shell.execute_reply": "2021-05-10T23:59:24.826832Z"
    },
    "papermill": {
     "duration": 5.467991,
     "end_time": "2021-05-10T23:59:24.827867",
     "exception": false,
     "start_time": "2021-05-10T23:59:19.359876",
     "status": "completed"
    },
    "tags": []
   },
   "outputs": [],
   "source": [
    "# import all library required\n",
    "import numpy as np\n",
    "import pandas as pd\n",
    "import tensorflow as tf\n",
    "import os\n",
    "import cv2\n",
    "import matplotlib.pyplot as plt\n",
    "import matplotlib as mpl\n",
    "\n",
    "# style your matplotlib\n",
    "mpl.style.use(\"seaborn-darkgrid\")\n",
    "# run this block"
   ]
  },
  {
   "cell_type": "code",
   "execution_count": 3,
   "id": "graduate-champion",
   "metadata": {
    "execution": {
     "iopub.execute_input": "2021-05-10T23:59:24.877817Z",
     "iopub.status.busy": "2021-05-10T23:59:24.877016Z",
     "iopub.status.idle": "2021-05-10T23:59:24.879595Z",
     "shell.execute_reply": "2021-05-10T23:59:24.878991Z"
    },
    "papermill": {
     "duration": 0.028813,
     "end_time": "2021-05-10T23:59:24.879711",
     "exception": false,
     "start_time": "2021-05-10T23:59:24.850898",
     "status": "completed"
    },
    "tags": []
   },
   "outputs": [],
   "source": [
    "from tqdm import tqdm # show progress bar of for loop\n"
   ]
  },
  {
   "cell_type": "code",
   "execution_count": 4,
   "id": "active-royalty",
   "metadata": {
    "execution": {
     "iopub.execute_input": "2021-05-10T23:59:24.928620Z",
     "iopub.status.busy": "2021-05-10T23:59:24.928069Z",
     "iopub.status.idle": "2021-05-10T23:59:24.955857Z",
     "shell.execute_reply": "2021-05-10T23:59:24.955444Z"
    },
    "papermill": {
     "duration": 0.053494,
     "end_time": "2021-05-10T23:59:24.955963",
     "exception": false,
     "start_time": "2021-05-10T23:59:24.902469",
     "status": "completed"
    },
    "tags": []
   },
   "outputs": [
    {
     "data": {
      "text/plain": [
       "['surprise', 'fear', 'angry', 'neutral', 'sad', 'disgust', 'happy']"
      ]
     },
     "execution_count": 4,
     "metadata": {},
     "output_type": "execute_result"
    }
   ],
   "source": [
    "# list of files in train folder\n",
    "files=os.listdir(\"../input/mma-facial-expression/MMAFEDB/train/\")\n",
    "files\n"
   ]
  },
  {
   "cell_type": "code",
   "execution_count": 5,
   "id": "patent-accessory",
   "metadata": {
    "execution": {
     "iopub.execute_input": "2021-05-10T23:59:25.006050Z",
     "iopub.status.busy": "2021-05-10T23:59:25.005381Z",
     "iopub.status.idle": "2021-05-10T23:59:25.007715Z",
     "shell.execute_reply": "2021-05-10T23:59:25.008112Z"
    },
    "papermill": {
     "duration": 0.028468,
     "end_time": "2021-05-10T23:59:25.008225",
     "exception": false,
     "start_time": "2021-05-10T23:59:24.979757",
     "status": "completed"
    },
    "tags": []
   },
   "outputs": [],
   "source": [
    "# restart our notebook and run from top to bottom"
   ]
  },
  {
   "cell_type": "code",
   "execution_count": 6,
   "id": "controversial-mentor",
   "metadata": {
    "execution": {
     "iopub.execute_input": "2021-05-10T23:59:25.062322Z",
     "iopub.status.busy": "2021-05-10T23:59:25.061770Z",
     "iopub.status.idle": "2021-05-11T00:11:14.664348Z",
     "shell.execute_reply": "2021-05-11T00:11:14.663839Z"
    },
    "papermill": {
     "duration": 709.632571,
     "end_time": "2021-05-11T00:11:14.664495",
     "exception": false,
     "start_time": "2021-05-10T23:59:25.031924",
     "status": "completed"
    },
    "tags": []
   },
   "outputs": [
    {
     "name": "stderr",
     "output_type": "stream",
     "text": [
      "100%|██████████| 8113/8113 [01:25<00:00, 94.70it/s]\n",
      "100%|██████████| 4859/4859 [00:47<00:00, 101.95it/s]\n",
      "100%|██████████| 6566/6566 [01:05<00:00, 100.95it/s]\n",
      "100%|██████████| 18000/18000 [02:58<00:00, 100.98it/s]\n",
      "100%|██████████| 12223/12223 [01:57<00:00, 104.14it/s]\n",
      "100%|██████████| 3231/3231 [00:30<00:00, 106.74it/s]\n",
      "100%|██████████| 18000/18000 [02:58<00:00, 100.86it/s]\n"
     ]
    }
   ],
   "source": [
    "# now create image and label array\n",
    "image_array=[]  # it's a list later i will convert it to array\n",
    "label_array=[]\n",
    "path=\"../input/mma-facial-expression/MMAFEDB/train/\"\n",
    "# loop through each sub-folder in train\n",
    "for i in range(len(files)):\n",
    "    # files in sub-folder\n",
    "    file_sub=os.listdir(path+files[i])\n",
    "\n",
    "   # print(len(file_sub))\n",
    "    # loop through each files\n",
    "    \n",
    "    # for neutral and happy dataset we will use only 18000 image\n",
    "    if(files[i]==\"neutral\" or files[i]==\"happy\"):\n",
    "        for k in tqdm(range(18000)):\n",
    "            # read image\n",
    "            img=cv2.imread(path+files[i]+\"/\"+file_sub[k])\n",
    "            # convert image from BGR to RGB\n",
    "            img=cv2.cvtColor(img,cv2.COLOR_BGR2RGB)\n",
    "            # append image_array with img\n",
    "            image_array.append(img)\n",
    "            label_array.append(i)\n",
    "            # i is interger from 0-6\n",
    "            # run this block\n",
    "    else:\n",
    "        # for other all \n",
    "        for k in tqdm(range(len(file_sub))):\n",
    "            # read image\n",
    "            img=cv2.imread(path+files[i]+\"/\"+file_sub[k])\n",
    "            # convert image from BGR to RGB\n",
    "            img=cv2.cvtColor(img,cv2.COLOR_BGR2RGB)\n",
    "            # append image_array with img\n",
    "            image_array.append(img)\n",
    "            label_array.append(i)\n",
    "            # i is interger from 0-6\n",
    "            # run this block"
   ]
  },
  {
   "cell_type": "code",
   "execution_count": 7,
   "id": "personalized-groove",
   "metadata": {
    "execution": {
     "iopub.execute_input": "2021-05-11T00:11:18.588388Z",
     "iopub.status.busy": "2021-05-11T00:11:18.587550Z",
     "iopub.status.idle": "2021-05-11T00:11:18.596477Z",
     "shell.execute_reply": "2021-05-11T00:11:18.595995Z"
    },
    "papermill": {
     "duration": 2.25294,
     "end_time": "2021-05-11T00:11:18.596592",
     "exception": false,
     "start_time": "2021-05-11T00:11:16.343652",
     "status": "completed"
    },
    "tags": []
   },
   "outputs": [
    {
     "data": {
      "text/plain": [
       "array([0, 1, 2, 3, 4, 5, 6])"
      ]
     },
     "execution_count": 7,
     "metadata": {},
     "output_type": "execute_result"
    }
   ],
   "source": [
    "a,b=np.unique(label_array,return_counts=\"True\")\n",
    "a"
   ]
  },
  {
   "cell_type": "code",
   "execution_count": 8,
   "id": "behavioral-municipality",
   "metadata": {
    "execution": {
     "iopub.execute_input": "2021-05-11T00:11:22.352459Z",
     "iopub.status.busy": "2021-05-11T00:11:22.351679Z",
     "iopub.status.idle": "2021-05-11T00:11:22.354983Z",
     "shell.execute_reply": "2021-05-11T00:11:22.355374Z"
    },
    "papermill": {
     "duration": 1.629037,
     "end_time": "2021-05-11T00:11:22.355525",
     "exception": false,
     "start_time": "2021-05-11T00:11:20.726488",
     "status": "completed"
    },
    "tags": []
   },
   "outputs": [
    {
     "data": {
      "text/plain": [
       "array([ 8113,  4859,  6566, 18000, 12223,  3231, 18000])"
      ]
     },
     "execution_count": 8,
     "metadata": {},
     "output_type": "execute_result"
    }
   ],
   "source": [
    "b\n",
    "# due to low ram memory we have to reduce our training dataset\n",
    "# we will reduce 29384,28592 to 18000\n",
    "# this will solve low memory issue"
   ]
  },
  {
   "cell_type": "code",
   "execution_count": 9,
   "id": "broadband-manchester",
   "metadata": {
    "execution": {
     "iopub.execute_input": "2021-05-11T00:11:25.506503Z",
     "iopub.status.busy": "2021-05-11T00:11:25.504952Z",
     "iopub.status.idle": "2021-05-11T00:11:25.507260Z",
     "shell.execute_reply": "2021-05-11T00:11:25.507742Z"
    },
    "papermill": {
     "duration": 1.585846,
     "end_time": "2021-05-11T00:11:25.507880",
     "exception": false,
     "start_time": "2021-05-11T00:11:23.922034",
     "status": "completed"
    },
    "tags": []
   },
   "outputs": [],
   "source": [
    "# check you code"
   ]
  },
  {
   "cell_type": "code",
   "execution_count": 10,
   "id": "military-pathology",
   "metadata": {
    "execution": {
     "iopub.execute_input": "2021-05-11T00:11:29.503144Z",
     "iopub.status.busy": "2021-05-11T00:11:29.501401Z",
     "iopub.status.idle": "2021-05-11T00:11:29.505801Z",
     "shell.execute_reply": "2021-05-11T00:11:29.506169Z"
    },
    "papermill": {
     "duration": 2.390827,
     "end_time": "2021-05-11T00:11:29.506330",
     "exception": false,
     "start_time": "2021-05-11T00:11:27.115503",
     "status": "completed"
    },
    "tags": []
   },
   "outputs": [
    {
     "data": {
      "text/plain": [
       "232"
      ]
     },
     "execution_count": 10,
     "metadata": {},
     "output_type": "execute_result"
    }
   ],
   "source": [
    "# now use this to free some ram memory\n",
    "import gc\n",
    "gc.collect()"
   ]
  },
  {
   "cell_type": "code",
   "execution_count": 11,
   "id": "homeless-aquarium",
   "metadata": {
    "execution": {
     "iopub.execute_input": "2021-05-11T00:11:32.671393Z",
     "iopub.status.busy": "2021-05-11T00:11:32.670798Z",
     "iopub.status.idle": "2021-05-11T00:11:34.130363Z",
     "shell.execute_reply": "2021-05-11T00:11:34.129837Z"
    },
    "papermill": {
     "duration": 3.04863,
     "end_time": "2021-05-11T00:11:34.130520",
     "exception": false,
     "start_time": "2021-05-11T00:11:31.081890",
     "status": "completed"
    },
    "tags": []
   },
   "outputs": [],
   "source": [
    "# now divide image_array by 255.0\n",
    "# this wil scale image pixel from 0-255 to 0-1\n",
    "image_array=np.array(image_array)/255.0\n",
    "# convert label list to array\n",
    "label_array=np.array(label_array)\n",
    "# run this block"
   ]
  },
  {
   "cell_type": "code",
   "execution_count": 12,
   "id": "remarkable-ladder",
   "metadata": {
    "execution": {
     "iopub.execute_input": "2021-05-11T00:11:37.295026Z",
     "iopub.status.busy": "2021-05-11T00:11:37.294441Z",
     "iopub.status.idle": "2021-05-11T00:11:37.298143Z",
     "shell.execute_reply": "2021-05-11T00:11:37.298536Z"
    },
    "papermill": {
     "duration": 1.568367,
     "end_time": "2021-05-11T00:11:37.298677",
     "exception": false,
     "start_time": "2021-05-11T00:11:35.730310",
     "status": "completed"
    },
    "tags": []
   },
   "outputs": [],
   "source": [
    "#image_array[0]\n",
    "#label_array\n"
   ]
  },
  {
   "cell_type": "code",
   "execution_count": 13,
   "id": "collect-migration",
   "metadata": {
    "execution": {
     "iopub.execute_input": "2021-05-11T00:11:40.957803Z",
     "iopub.status.busy": "2021-05-11T00:11:40.956733Z",
     "iopub.status.idle": "2021-05-11T00:11:40.959635Z",
     "shell.execute_reply": "2021-05-11T00:11:40.960160Z"
    },
    "papermill": {
     "duration": 1.792382,
     "end_time": "2021-05-11T00:11:40.960293",
     "exception": false,
     "start_time": "2021-05-11T00:11:39.167911",
     "status": "completed"
    },
    "tags": []
   },
   "outputs": [],
   "source": [
    "# now define label_to_text \n",
    "#['surprise', 'fear', 'angry', 'neutral', 'sad', 'disgust', 'happy']\n",
    "label_to_text={0:\"surprise\",1:\"fear\",2:\"angry\",3:\"neutral\",4:\"sad\",5:\"disgust\",6:\"happy\"}"
   ]
  },
  {
   "cell_type": "code",
   "execution_count": 14,
   "id": "natural-compilation",
   "metadata": {
    "execution": {
     "iopub.execute_input": "2021-05-11T00:11:44.083774Z",
     "iopub.status.busy": "2021-05-11T00:11:44.083082Z",
     "iopub.status.idle": "2021-05-11T00:11:44.086225Z",
     "shell.execute_reply": "2021-05-11T00:11:44.086732Z"
    },
    "papermill": {
     "duration": 1.555762,
     "end_time": "2021-05-11T00:11:44.086869",
     "exception": false,
     "start_time": "2021-05-11T00:11:42.531107",
     "status": "completed"
    },
    "tags": []
   },
   "outputs": [
    {
     "data": {
      "text/plain": [
       "'fear'"
      ]
     },
     "execution_count": 14,
     "metadata": {},
     "output_type": "execute_result"
    }
   ],
   "source": [
    "# this dic can convert label to text_label\n",
    "# example\n",
    "label_to_text[1]"
   ]
  },
  {
   "cell_type": "code",
   "execution_count": 15,
   "id": "intensive-healthcare",
   "metadata": {
    "execution": {
     "iopub.execute_input": "2021-05-11T00:11:47.237011Z",
     "iopub.status.busy": "2021-05-11T00:11:47.236158Z",
     "iopub.status.idle": "2021-05-11T00:11:47.238275Z",
     "shell.execute_reply": "2021-05-11T00:11:47.238817Z"
    },
    "papermill": {
     "duration": 1.577108,
     "end_time": "2021-05-11T00:11:47.238951",
     "exception": false,
     "start_time": "2021-05-11T00:11:45.661843",
     "status": "completed"
    },
    "tags": []
   },
   "outputs": [],
   "source": [
    "# now shuffle and split image and labels into train and test"
   ]
  },
  {
   "cell_type": "code",
   "execution_count": 16,
   "id": "divine-plane",
   "metadata": {
    "execution": {
     "iopub.execute_input": "2021-05-11T00:11:51.211833Z",
     "iopub.status.busy": "2021-05-11T00:11:51.211088Z",
     "iopub.status.idle": "2021-05-11T00:11:53.182691Z",
     "shell.execute_reply": "2021-05-11T00:11:53.183270Z"
    },
    "papermill": {
     "duration": 4.320167,
     "end_time": "2021-05-11T00:11:53.183492",
     "exception": false,
     "start_time": "2021-05-11T00:11:48.863325",
     "status": "completed"
    },
    "tags": []
   },
   "outputs": [
    {
     "data": {
      "text/plain": [
       "0"
      ]
     },
     "execution_count": 16,
     "metadata": {},
     "output_type": "execute_result"
    }
   ],
   "source": [
    "from sklearn.model_selection import train_test_split\n",
    "image_array,X_test,Y_train,Y_test=train_test_split(image_array,label_array,test_size=0.1)\n",
    "# you can change test size \n",
    "# we are using 10% for validation\n",
    "\n",
    "#now before running this block change X_train to image_array to save ram memory\n",
    "gc.collect()"
   ]
  },
  {
   "cell_type": "code",
   "execution_count": 17,
   "id": "existing-nowhere",
   "metadata": {
    "execution": {
     "iopub.execute_input": "2021-05-11T00:11:56.468909Z",
     "iopub.status.busy": "2021-05-11T00:11:56.468206Z",
     "iopub.status.idle": "2021-05-11T00:11:56.472310Z",
     "shell.execute_reply": "2021-05-11T00:11:56.471885Z"
    },
    "papermill": {
     "duration": 1.586958,
     "end_time": "2021-05-11T00:11:56.472439",
     "exception": false,
     "start_time": "2021-05-11T00:11:54.885481",
     "status": "completed"
    },
    "tags": []
   },
   "outputs": [],
   "source": [
    "# if you want to see image and label\n",
    "# define dic for converting label to test_label\n",
    "#['surprise', 'fear', 'angry', 'neutral', 'sad', 'disgust', 'happy']\n",
    "label_to_text={0:\"surprise\",1:\"fear\",2:\"angry\",3:\"neutral\",4:\"sad\",5:\"disgust\",6:\"happy\"}"
   ]
  },
  {
   "cell_type": "code",
   "execution_count": 18,
   "id": "fixed-services",
   "metadata": {
    "execution": {
     "iopub.execute_input": "2021-05-11T00:11:59.578520Z",
     "iopub.status.busy": "2021-05-11T00:11:59.577964Z",
     "iopub.status.idle": "2021-05-11T00:11:59.582318Z",
     "shell.execute_reply": "2021-05-11T00:11:59.582705Z"
    },
    "papermill": {
     "duration": 1.567621,
     "end_time": "2021-05-11T00:11:59.582848",
     "exception": false,
     "start_time": "2021-05-11T00:11:58.015227",
     "status": "completed"
    },
    "tags": []
   },
   "outputs": [
    {
     "data": {
      "text/plain": [
       "'angry'"
      ]
     },
     "execution_count": 18,
     "metadata": {},
     "output_type": "execute_result"
    }
   ],
   "source": [
    "label_to_text[2]"
   ]
  },
  {
   "cell_type": "code",
   "execution_count": 19,
   "id": "reserved-stations",
   "metadata": {
    "execution": {
     "iopub.execute_input": "2021-05-11T00:12:03.335539Z",
     "iopub.status.busy": "2021-05-11T00:12:03.334680Z",
     "iopub.status.idle": "2021-05-11T00:12:04.721976Z",
     "shell.execute_reply": "2021-05-11T00:12:04.721526Z"
    },
    "papermill": {
     "duration": 3.029571,
     "end_time": "2021-05-11T00:12:04.722092",
     "exception": false,
     "start_time": "2021-05-11T00:12:01.692521",
     "status": "completed"
    },
    "tags": []
   },
   "outputs": [
    {
     "data": {
      "image/png": "[encoded data removed]",
      "text/plain": [
       "<Figure size 1152x1152 with 16 Axes>"
      ]
     },
     "metadata": {},
     "output_type": "display_data"
    }
   ],
   "source": [
    "# define a function \n",
    "def show_examples(image,label,idx):\n",
    "    # create 4x4 figure\n",
    "    fig,axes=plt.subplots(nrows=4,ncols=4,figsize=(16,16))\n",
    "    # loop through each figure\n",
    "    for idx_f,ax in zip(idx,axes.ravel()):\n",
    "        # add image to figure\n",
    "        ax.imshow(image[idx_f].squeeze(),cmap=\"gray\")\n",
    "        # add title to each figure\n",
    "        ax.set_title(label_to_text[label[idx_f]])\n",
    "    plt.show()\n",
    "idx=np.random.choice(16,16)\n",
    "show_examples(image_array,Y_train,idx)"
   ]
  },
  {
   "cell_type": "code",
   "execution_count": 20,
   "id": "controlling-february",
   "metadata": {
    "execution": {
     "iopub.execute_input": "2021-05-11T00:12:07.853805Z",
     "iopub.status.busy": "2021-05-11T00:12:07.853163Z",
     "iopub.status.idle": "2021-05-11T00:12:07.902609Z",
     "shell.execute_reply": "2021-05-11T00:12:07.902166Z"
    },
    "papermill": {
     "duration": 1.608441,
     "end_time": "2021-05-11T00:12:07.902732",
     "exception": false,
     "start_time": "2021-05-11T00:12:06.294291",
     "status": "completed"
    },
    "tags": []
   },
   "outputs": [],
   "source": [
    "# now we will start with our model\n",
    "# import all library required for model\n",
    "from keras import layers,callbacks,utils,applications,optimizers\n",
    "from keras.models import Sequential,Model,load_model\n",
    "# run this block"
   ]
  },
  {
   "cell_type": "code",
   "execution_count": 21,
   "id": "contained-qatar",
   "metadata": {
    "execution": {
     "iopub.execute_input": "2021-05-11T00:12:11.092593Z",
     "iopub.status.busy": "2021-05-11T00:12:11.092036Z",
     "iopub.status.idle": "2021-05-11T00:12:15.122246Z",
     "shell.execute_reply": "2021-05-11T00:12:15.122947Z"
    },
    "papermill": {
     "duration": 5.649592,
     "end_time": "2021-05-11T00:12:15.123104",
     "exception": false,
     "start_time": "2021-05-11T00:12:09.473512",
     "status": "completed"
    },
    "tags": []
   },
   "outputs": [
    {
     "name": "stdout",
     "output_type": "stream",
     "text": [
      "Downloading data from https://storage.googleapis.com/tensorflow/keras-applications/mobilenet_v2/mobilenet_v2_weights_tf_dim_ordering_tf_kernels_1.0_224_no_top.h5\n",
      "9412608/9406464 [==============================] - 0s 0us/step\n",
      "Model: \"sequential\"\n",
      "_________________________________________________________________\n",
      "Layer (type)                 Output Shape              Param #   \n",
      "=================================================================\n",
      "mobilenetv2_1.00_224 (Functi (None, 2, 2, 1280)        2257984   \n",
      "_________________________________________________________________\n",
      "global_average_pooling2d (Gl (None, 1280)              0         \n",
      "_________________________________________________________________\n",
      "dropout (Dropout)            (None, 1280)              0         \n",
      "_________________________________________________________________\n",
      "dense (Dense)                (None, 1)                 1281      \n",
      "=================================================================\n",
      "Total params: 2,259,265\n",
      "Trainable params: 2,225,153\n",
      "Non-trainable params: 34,112\n",
      "_________________________________________________________________\n"
     ]
    }
   ],
   "source": [
    "model=Sequential()\n",
    "# I will use MobileNetV2 as an pretrained model \n",
    "pretrained_model=applications.MobileNetV2(input_shape=(48,48,3),include_top=False,\n",
    "                                         weights=\"imagenet\")\n",
    "# you can use other pretrained model to increase accuracy or increase frame rate\n",
    "# change all non-trainable layer to trainable\n",
    "pretrained_model.trainable=True\n",
    "# add pretrained_model to model\n",
    "model.add(pretrained_model)\n",
    "model.add(layers.GlobalAveragePooling2D())\n",
    "# add dropout to increase accuracy by not overfitting\n",
    "model.add(layers.Dropout(0.3))\n",
    "# add dense layer as final output\n",
    "model.add(layers.Dense(1))\n",
    "model.summary()"
   ]
  },
  {
   "cell_type": "code",
   "execution_count": 22,
   "id": "medical-capture",
   "metadata": {
    "execution": {
     "iopub.execute_input": "2021-05-11T00:12:18.254083Z",
     "iopub.status.busy": "2021-05-11T00:12:18.253168Z",
     "iopub.status.idle": "2021-05-11T00:12:18.255890Z",
     "shell.execute_reply": "2021-05-11T00:12:18.255485Z"
    },
    "papermill": {
     "duration": 1.567199,
     "end_time": "2021-05-11T00:12:18.256000",
     "exception": false,
     "start_time": "2021-05-11T00:12:16.688801",
     "status": "completed"
    },
    "tags": []
   },
   "outputs": [],
   "source": [
    "# you can add more layer to increase accuracy"
   ]
  },
  {
   "cell_type": "code",
   "execution_count": 23,
   "id": "meaningful-jumping",
   "metadata": {
    "execution": {
     "iopub.execute_input": "2021-05-11T00:12:21.548101Z",
     "iopub.status.busy": "2021-05-11T00:12:21.547185Z",
     "iopub.status.idle": "2021-05-11T00:12:21.551299Z",
     "shell.execute_reply": "2021-05-11T00:12:21.550891Z"
    },
    "papermill": {
     "duration": 1.688508,
     "end_time": "2021-05-11T00:12:21.551435",
     "exception": false,
     "start_time": "2021-05-11T00:12:19.862927",
     "status": "completed"
    },
    "tags": []
   },
   "outputs": [],
   "source": [
    "from tensorflow.keras.optimizers import Adam"
   ]
  },
  {
   "cell_type": "code",
   "execution_count": 24,
   "id": "elect-acceptance",
   "metadata": {
    "execution": {
     "iopub.execute_input": "2021-05-11T00:12:25.082141Z",
     "iopub.status.busy": "2021-05-11T00:12:25.081206Z",
     "iopub.status.idle": "2021-05-11T00:12:25.088031Z",
     "shell.execute_reply": "2021-05-11T00:12:25.087617Z"
    },
    "papermill": {
     "duration": 1.643871,
     "end_time": "2021-05-11T00:12:25.088146",
     "exception": false,
     "start_time": "2021-05-11T00:12:23.444275",
     "status": "completed"
    },
    "tags": []
   },
   "outputs": [],
   "source": [
    "#compile model\n",
    "\n",
    "model.compile(optimizer=Adam(0.0001),loss=\"mean_squared_error\",metrics=[\"mae\"])\n",
    "# run\n",
    "# starting learning rate is 1e-3\n",
    "# you can change optimizer, loss function, metrics for better result"
   ]
  },
  {
   "cell_type": "code",
   "execution_count": 25,
   "id": "wicked-conviction",
   "metadata": {
    "execution": {
     "iopub.execute_input": "2021-05-11T00:12:28.765823Z",
     "iopub.status.busy": "2021-05-11T00:12:28.762495Z",
     "iopub.status.idle": "2021-05-11T00:12:28.768300Z",
     "shell.execute_reply": "2021-05-11T00:12:28.768827Z"
    },
    "papermill": {
     "duration": 1.628555,
     "end_time": "2021-05-11T00:12:28.769009",
     "exception": false,
     "start_time": "2021-05-11T00:12:27.140454",
     "status": "completed"
    },
    "tags": []
   },
   "outputs": [],
   "source": [
    "# create a model checkpoint to save model\n",
    "ckp_path=\"trained_model/model\"\n",
    "model_checkpoint=tf.keras.callbacks.ModelCheckpoint(filepath=ckp_path,\n",
    "                                                   monitor=\"val_mae\",\n",
    "                                                   save_best_only=True,\n",
    "                                                   save_weights_only=True,\n",
    "                                                   mode=\"auto\")\n",
    "# this checkpoint save model when val_mae is lower then best val_mae\n",
    "#run\n",
    "                                                    "
   ]
  },
  {
   "cell_type": "code",
   "execution_count": 26,
   "id": "existing-studio",
   "metadata": {
    "execution": {
     "iopub.execute_input": "2021-05-11T00:12:31.923693Z",
     "iopub.status.busy": "2021-05-11T00:12:31.923102Z",
     "iopub.status.idle": "2021-05-11T00:12:31.927187Z",
     "shell.execute_reply": "2021-05-11T00:12:31.926765Z"
    },
    "papermill": {
     "duration": 1.572934,
     "end_time": "2021-05-11T00:12:31.927302",
     "exception": false,
     "start_time": "2021-05-11T00:12:30.354368",
     "status": "completed"
    },
    "tags": []
   },
   "outputs": [],
   "source": [
    "# now we will define learning rate reducer \n",
    "reduce_lr=tf.keras.callbacks.ReduceLROnPlateau(factor=0.9,\n",
    "                                              monitor=\"val_mae\",\n",
    "                                              mode=\"auto\",\n",
    "                                              cooldown=0,\n",
    "                                              patience=5,\n",
    "                                              verbose=1,\n",
    "                                              min_lr=1e-6)\n",
    "# this will decrease learning rate when val_mae does't decrease durning last 5 epoch\n",
    "# verbose is use to show val_mae every epoch\n"
   ]
  },
  {
   "cell_type": "code",
   "execution_count": 27,
   "id": "stock-january",
   "metadata": {
    "execution": {
     "iopub.execute_input": "2021-05-11T00:12:35.345560Z",
     "iopub.status.busy": "2021-05-11T00:12:35.344907Z",
     "iopub.status.idle": "2021-05-11T02:14:43.328081Z",
     "shell.execute_reply": "2021-05-11T02:14:43.055588Z"
    },
    "papermill": {
     "duration": 7329.792234,
     "end_time": "2021-05-11T02:14:43.328283",
     "exception": false,
     "start_time": "2021-05-11T00:12:33.536049",
     "status": "completed"
    },
    "tags": []
   },
   "outputs": [
    {
     "name": "stdout",
     "output_type": "stream",
     "text": [
      "Epoch 1/300\n",
      "999/999 [==============================] - 34s 26ms/step - loss: 5.4372 - mae: 1.8519 - val_loss: 38.6322 - val_mae: 5.8628\n",
      "Epoch 2/300\n",
      "999/999 [==============================] - 23s 23ms/step - loss: 2.8571 - mae: 1.3510 - val_loss: 5.2014 - val_mae: 1.8531\n",
      "Epoch 3/300\n",
      "999/999 [==============================] - 24s 24ms/step - loss: 2.3893 - mae: 1.2243 - val_loss: 3.8229 - val_mae: 1.5640\n",
      "Epoch 4/300\n",
      "999/999 [==============================] - 25s 25ms/step - loss: 2.1509 - mae: 1.1510 - val_loss: 3.0387 - val_mae: 1.3757\n",
      "Epoch 5/300\n",
      "999/999 [==============================] - 24s 24ms/step - loss: 1.9227 - mae: 1.0793 - val_loss: 2.6094 - val_mae: 1.2482\n",
      "Epoch 6/300\n",
      "999/999 [==============================] - 24s 24ms/step - loss: 1.7771 - mae: 1.0309 - val_loss: 2.2847 - val_mae: 1.1685\n",
      "Epoch 7/300\n",
      "999/999 [==============================] - 24s 24ms/step - loss: 1.5409 - mae: 0.9513 - val_loss: 2.3038 - val_mae: 1.1538\n",
      "Epoch 8/300\n",
      "999/999 [==============================] - 25s 25ms/step - loss: 1.4077 - mae: 0.9049 - val_loss: 2.2303 - val_mae: 1.1232\n",
      "Epoch 9/300\n",
      "999/999 [==============================] - 23s 23ms/step - loss: 1.2428 - mae: 0.8488 - val_loss: 2.1650 - val_mae: 1.1024\n",
      "Epoch 10/300\n",
      "999/999 [==============================] - 24s 24ms/step - loss: 1.0819 - mae: 0.7885 - val_loss: 2.1511 - val_mae: 1.1032\n",
      "Epoch 11/300\n",
      "999/999 [==============================] - 24s 24ms/step - loss: 0.9656 - mae: 0.7439 - val_loss: 2.4168 - val_mae: 1.1552\n",
      "Epoch 12/300\n",
      "999/999 [==============================] - 23s 23ms/step - loss: 1.0512 - mae: 0.7752 - val_loss: 2.3205 - val_mae: 1.1518\n",
      "Epoch 13/300\n",
      "999/999 [==============================] - 24s 24ms/step - loss: 0.7823 - mae: 0.6682 - val_loss: 2.2596 - val_mae: 1.1002\n",
      "Epoch 14/300\n",
      "999/999 [==============================] - 25s 25ms/step - loss: 0.6897 - mae: 0.6281 - val_loss: 2.3073 - val_mae: 1.1128\n",
      "Epoch 15/300\n",
      "999/999 [==============================] - 23s 23ms/step - loss: 0.6434 - mae: 0.6060 - val_loss: 2.4188 - val_mae: 1.1249\n",
      "Epoch 16/300\n",
      "999/999 [==============================] - 25s 25ms/step - loss: 0.5897 - mae: 0.5812 - val_loss: 2.2790 - val_mae: 1.0899\n",
      "Epoch 17/300\n",
      "999/999 [==============================] - 25s 25ms/step - loss: 0.5571 - mae: 0.5624 - val_loss: 2.2062 - val_mae: 1.0996\n",
      "Epoch 18/300\n",
      "999/999 [==============================] - 24s 24ms/step - loss: 0.5352 - mae: 0.5498 - val_loss: 2.2278 - val_mae: 1.0860\n",
      "Epoch 19/300\n",
      "999/999 [==============================] - 24s 24ms/step - loss: 0.4906 - mae: 0.5270 - val_loss: 2.2387 - val_mae: 1.0921\n",
      "Epoch 20/300\n",
      "999/999 [==============================] - 25s 25ms/step - loss: 0.4648 - mae: 0.5114 - val_loss: 2.2895 - val_mae: 1.0891\n",
      "Epoch 21/300\n",
      "999/999 [==============================] - 24s 24ms/step - loss: 0.4416 - mae: 0.4966 - val_loss: 2.3486 - val_mae: 1.1166\n",
      "Epoch 22/300\n",
      "999/999 [==============================] - 25s 25ms/step - loss: 0.4739 - mae: 0.5104 - val_loss: 2.4809 - val_mae: 1.1466\n",
      "Epoch 23/300\n",
      "999/999 [==============================] - 25s 26ms/step - loss: 0.4036 - mae: 0.4770 - val_loss: 2.2477 - val_mae: 1.0695\n",
      "Epoch 24/300\n",
      "999/999 [==============================] - 24s 24ms/step - loss: 0.3666 - mae: 0.4534 - val_loss: 2.2093 - val_mae: 1.0690\n",
      "Epoch 25/300\n",
      "999/999 [==============================] - 25s 25ms/step - loss: 0.3595 - mae: 0.4461 - val_loss: 2.2873 - val_mae: 1.0699\n",
      "Epoch 26/300\n",
      "999/999 [==============================] - 26s 26ms/step - loss: 0.3492 - mae: 0.4422 - val_loss: 2.3932 - val_mae: 1.1000\n",
      "Epoch 27/300\n",
      "999/999 [==============================] - 24s 24ms/step - loss: 0.3393 - mae: 0.4323 - val_loss: 2.2574 - val_mae: 1.0688\n",
      "Epoch 28/300\n",
      "999/999 [==============================] - 23s 23ms/step - loss: 0.3248 - mae: 0.4242 - val_loss: 2.1362 - val_mae: 1.0486\n",
      "Epoch 29/300\n",
      "999/999 [==============================] - 26s 26ms/step - loss: 0.3238 - mae: 0.4218 - val_loss: 2.2514 - val_mae: 1.0658\n",
      "Epoch 30/300\n",
      "999/999 [==============================] - 24s 24ms/step - loss: 0.2942 - mae: 0.4035 - val_loss: 2.2031 - val_mae: 1.0459\n",
      "Epoch 31/300\n",
      "999/999 [==============================] - 24s 24ms/step - loss: 0.2947 - mae: 0.4006 - val_loss: 2.2235 - val_mae: 1.0427\n",
      "Epoch 32/300\n",
      "999/999 [==============================] - 25s 25ms/step - loss: 0.2750 - mae: 0.3879 - val_loss: 2.1149 - val_mae: 1.0161\n",
      "Epoch 33/300\n",
      "999/999 [==============================] - 23s 23ms/step - loss: 0.2690 - mae: 0.3840 - val_loss: 2.1718 - val_mae: 1.0427\n",
      "Epoch 34/300\n",
      "999/999 [==============================] - 25s 25ms/step - loss: 0.2681 - mae: 0.3796 - val_loss: 2.1354 - val_mae: 1.0337\n",
      "Epoch 35/300\n",
      "999/999 [==============================] - 24s 24ms/step - loss: 0.2583 - mae: 0.3730 - val_loss: 2.1500 - val_mae: 1.0243\n",
      "Epoch 36/300\n",
      "999/999 [==============================] - 23s 23ms/step - loss: 0.2702 - mae: 0.3797 - val_loss: 2.2309 - val_mae: 1.0582\n",
      "Epoch 37/300\n",
      "999/999 [==============================] - 26s 26ms/step - loss: 0.2409 - mae: 0.3614 - val_loss: 2.1253 - val_mae: 1.0207\n",
      "\n",
      "Epoch 00037: ReduceLROnPlateau reducing learning rate to 8.999999772640876e-05.\n",
      "Epoch 38/300\n",
      "999/999 [==============================] - 23s 23ms/step - loss: 0.2249 - mae: 0.3486 - val_loss: 2.1419 - val_mae: 1.0282\n",
      "Epoch 39/300\n",
      "999/999 [==============================] - 23s 23ms/step - loss: 0.2069 - mae: 0.3355 - val_loss: 2.0632 - val_mae: 1.0041\n",
      "Epoch 40/300\n",
      "999/999 [==============================] - 26s 26ms/step - loss: 0.2035 - mae: 0.3328 - val_loss: 2.0524 - val_mae: 1.0047\n",
      "Epoch 41/300\n",
      "999/999 [==============================] - 23s 23ms/step - loss: 0.2067 - mae: 0.3330 - val_loss: 2.0450 - val_mae: 0.9839\n",
      "Epoch 42/300\n",
      "999/999 [==============================] - 23s 23ms/step - loss: 0.1951 - mae: 0.3251 - val_loss: 2.1473 - val_mae: 1.0344\n",
      "Epoch 43/300\n",
      "999/999 [==============================] - 26s 26ms/step - loss: 0.1964 - mae: 0.3243 - val_loss: 2.0569 - val_mae: 0.9849\n",
      "Epoch 44/300\n",
      "999/999 [==============================] - 23s 23ms/step - loss: 0.1877 - mae: 0.3178 - val_loss: 2.0611 - val_mae: 0.9992\n",
      "Epoch 45/300\n",
      "999/999 [==============================] - 23s 24ms/step - loss: 0.1849 - mae: 0.3138 - val_loss: 2.1026 - val_mae: 0.9966\n",
      "Epoch 46/300\n",
      "999/999 [==============================] - 26s 26ms/step - loss: 0.1820 - mae: 0.3102 - val_loss: 2.1478 - val_mae: 1.0121\n",
      "\n",
      "Epoch 00046: ReduceLROnPlateau reducing learning rate to 8.100000122794882e-05.\n",
      "Epoch 47/300\n",
      "999/999 [==============================] - 23s 23ms/step - loss: 0.1812 - mae: 0.3106 - val_loss: 2.0383 - val_mae: 0.9790\n",
      "Epoch 48/300\n",
      "999/999 [==============================] - 23s 23ms/step - loss: 0.1574 - mae: 0.2916 - val_loss: 2.0027 - val_mae: 0.9866\n",
      "Epoch 49/300\n",
      "999/999 [==============================] - 27s 27ms/step - loss: 0.1588 - mae: 0.2905 - val_loss: 2.0264 - val_mae: 0.9734\n",
      "Epoch 50/300\n",
      "999/999 [==============================] - 23s 23ms/step - loss: 0.1546 - mae: 0.2877 - val_loss: 2.0336 - val_mae: 0.9898\n",
      "Epoch 51/300\n",
      "999/999 [==============================] - 23s 23ms/step - loss: 0.1490 - mae: 0.2827 - val_loss: 2.0261 - val_mae: 0.9829\n",
      "Epoch 52/300\n",
      "999/999 [==============================] - 27s 27ms/step - loss: 0.1523 - mae: 0.2833 - val_loss: 2.0051 - val_mae: 0.9656\n",
      "Epoch 53/300\n",
      "999/999 [==============================] - 23s 23ms/step - loss: 0.1445 - mae: 0.2770 - val_loss: 2.0897 - val_mae: 0.9868\n",
      "Epoch 54/300\n",
      "999/999 [==============================] - 23s 23ms/step - loss: 0.1392 - mae: 0.2725 - val_loss: 1.9847 - val_mae: 0.9590\n",
      "Epoch 55/300\n",
      "999/999 [==============================] - 26s 26ms/step - loss: 0.1373 - mae: 0.2708 - val_loss: 2.0406 - val_mae: 0.9846\n",
      "Epoch 56/300\n",
      "999/999 [==============================] - 23s 23ms/step - loss: 0.1394 - mae: 0.2718 - val_loss: 1.9837 - val_mae: 0.9638\n",
      "Epoch 57/300\n",
      "999/999 [==============================] - 24s 24ms/step - loss: 0.1349 - mae: 0.2671 - val_loss: 2.0886 - val_mae: 0.9941\n",
      "Epoch 58/300\n",
      "999/999 [==============================] - 27s 27ms/step - loss: 0.1322 - mae: 0.2646 - val_loss: 2.0154 - val_mae: 0.9778\n",
      "Epoch 59/300\n",
      "999/999 [==============================] - 23s 23ms/step - loss: 0.1372 - mae: 0.2688 - val_loss: 2.0212 - val_mae: 0.9824\n",
      "\n",
      "Epoch 00059: ReduceLROnPlateau reducing learning rate to 7.289999848580919e-05.\n",
      "Epoch 60/300\n",
      "999/999 [==============================] - 24s 24ms/step - loss: 0.1265 - mae: 0.2576 - val_loss: 2.0060 - val_mae: 0.9639\n",
      "Epoch 61/300\n",
      "999/999 [==============================] - 28s 28ms/step - loss: 0.1129 - mae: 0.2452 - val_loss: 2.0126 - val_mae: 0.9579\n",
      "Epoch 62/300\n",
      "999/999 [==============================] - 23s 23ms/step - loss: 0.1125 - mae: 0.2431 - val_loss: 1.9998 - val_mae: 0.9663\n",
      "Epoch 63/300\n",
      "999/999 [==============================] - 23s 23ms/step - loss: 0.1140 - mae: 0.2444 - val_loss: 1.9623 - val_mae: 0.9349\n",
      "Epoch 64/300\n",
      "999/999 [==============================] - 23s 23ms/step - loss: 0.1125 - mae: 0.2435 - val_loss: 1.9642 - val_mae: 0.9511\n",
      "Epoch 65/300\n",
      "999/999 [==============================] - 23s 23ms/step - loss: 0.1136 - mae: 0.2423 - val_loss: 1.9475 - val_mae: 0.9420\n",
      "Epoch 66/300\n",
      "999/999 [==============================] - 26s 26ms/step - loss: 0.1081 - mae: 0.2380 - val_loss: 1.9509 - val_mae: 0.9451\n",
      "Epoch 67/300\n",
      "999/999 [==============================] - 24s 24ms/step - loss: 0.1089 - mae: 0.2373 - val_loss: 1.9702 - val_mae: 0.9415\n",
      "Epoch 68/300\n",
      "999/999 [==============================] - 23s 23ms/step - loss: 0.1074 - mae: 0.2372 - val_loss: 2.0329 - val_mae: 0.9531\n",
      "\n",
      "Epoch 00068: ReduceLROnPlateau reducing learning rate to 6.56100019114092e-05.\n",
      "Epoch 69/300\n",
      "999/999 [==============================] - 24s 24ms/step - loss: 0.1042 - mae: 0.2335 - val_loss: 2.0287 - val_mae: 0.9457\n",
      "Epoch 70/300\n",
      "999/999 [==============================] - 23s 24ms/step - loss: 0.0995 - mae: 0.2282 - val_loss: 1.9706 - val_mae: 0.9479\n",
      "Epoch 71/300\n",
      "999/999 [==============================] - 23s 23ms/step - loss: 0.0934 - mae: 0.2223 - val_loss: 2.0576 - val_mae: 0.9703\n",
      "Epoch 72/300\n",
      "999/999 [==============================] - 28s 28ms/step - loss: 0.0923 - mae: 0.2199 - val_loss: 1.9837 - val_mae: 0.9501\n",
      "Epoch 73/300\n",
      "999/999 [==============================] - 23s 23ms/step - loss: 0.0941 - mae: 0.2217 - val_loss: 2.0740 - val_mae: 0.9617\n",
      "\n",
      "Epoch 00073: ReduceLROnPlateau reducing learning rate to 5.904900172026828e-05.\n",
      "Epoch 74/300\n",
      "999/999 [==============================] - 23s 23ms/step - loss: 0.0884 - mae: 0.2157 - val_loss: 1.9776 - val_mae: 0.9400\n",
      "Epoch 75/300\n",
      "999/999 [==============================] - 23s 23ms/step - loss: 0.0846 - mae: 0.2100 - val_loss: 1.9733 - val_mae: 0.9442\n",
      "Epoch 76/300\n",
      "999/999 [==============================] - 24s 24ms/step - loss: 0.0781 - mae: 0.2043 - val_loss: 1.9421 - val_mae: 0.9259\n",
      "Epoch 77/300\n",
      "999/999 [==============================] - 25s 25ms/step - loss: 0.0786 - mae: 0.2049 - val_loss: 1.9555 - val_mae: 0.9315\n",
      "Epoch 78/300\n",
      "999/999 [==============================] - 27s 27ms/step - loss: 0.0822 - mae: 0.2082 - val_loss: 1.9755 - val_mae: 0.9320\n",
      "Epoch 79/300\n",
      "999/999 [==============================] - 23s 23ms/step - loss: 0.0777 - mae: 0.2032 - val_loss: 1.9653 - val_mae: 0.9390\n",
      "Epoch 80/300\n",
      "999/999 [==============================] - 24s 24ms/step - loss: 0.0824 - mae: 0.2055 - val_loss: 1.9887 - val_mae: 0.9368\n",
      "Epoch 81/300\n",
      "999/999 [==============================] - 23s 23ms/step - loss: 0.0765 - mae: 0.2011 - val_loss: 1.9202 - val_mae: 0.9273\n",
      "\n",
      "Epoch 00081: ReduceLROnPlateau reducing learning rate to 5.314410154824145e-05.\n",
      "Epoch 82/300\n",
      "999/999 [==============================] - 23s 24ms/step - loss: 0.0775 - mae: 0.2006 - val_loss: 1.9581 - val_mae: 0.9281\n",
      "Epoch 83/300\n",
      "999/999 [==============================] - 27s 27ms/step - loss: 0.0694 - mae: 0.1922 - val_loss: 1.9394 - val_mae: 0.9347\n",
      "Epoch 84/300\n",
      "999/999 [==============================] - 25s 25ms/step - loss: 0.0687 - mae: 0.1912 - val_loss: 1.9314 - val_mae: 0.9189\n",
      "Epoch 85/300\n",
      "999/999 [==============================] - 23s 24ms/step - loss: 0.0696 - mae: 0.1917 - val_loss: 1.9297 - val_mae: 0.9202\n",
      "Epoch 86/300\n",
      "999/999 [==============================] - 23s 23ms/step - loss: 0.0677 - mae: 0.1901 - val_loss: 1.9455 - val_mae: 0.9200\n",
      "Epoch 87/300\n",
      "999/999 [==============================] - 23s 23ms/step - loss: 0.0693 - mae: 0.1905 - val_loss: 1.9528 - val_mae: 0.9259\n",
      "Epoch 88/300\n",
      "999/999 [==============================] - 24s 24ms/step - loss: 0.0667 - mae: 0.1885 - val_loss: 1.9343 - val_mae: 0.9166\n",
      "Epoch 89/300\n",
      "999/999 [==============================] - 29s 29ms/step - loss: 0.0679 - mae: 0.1877 - val_loss: 1.9472 - val_mae: 0.9248\n",
      "Epoch 90/300\n",
      "999/999 [==============================] - 24s 24ms/step - loss: 0.0671 - mae: 0.1872 - val_loss: 1.9555 - val_mae: 0.9334\n",
      "Epoch 91/300\n",
      "999/999 [==============================] - 23s 23ms/step - loss: 0.0651 - mae: 0.1847 - val_loss: 1.9255 - val_mae: 0.9271\n",
      "Epoch 92/300\n",
      "999/999 [==============================] - 23s 23ms/step - loss: 0.0641 - mae: 0.1832 - val_loss: 1.9702 - val_mae: 0.9252\n",
      "Epoch 93/300\n",
      "999/999 [==============================] - 23s 23ms/step - loss: 0.0614 - mae: 0.1795 - val_loss: 1.9382 - val_mae: 0.9286\n",
      "\n",
      "Epoch 00093: ReduceLROnPlateau reducing learning rate to 4.7829690083744934e-05.\n",
      "Epoch 94/300\n",
      "999/999 [==============================] - 24s 24ms/step - loss: 0.0614 - mae: 0.1782 - val_loss: 1.9353 - val_mae: 0.9206\n",
      "Epoch 95/300\n",
      "999/999 [==============================] - 29s 29ms/step - loss: 0.0614 - mae: 0.1776 - val_loss: 1.9100 - val_mae: 0.9054\n",
      "Epoch 96/300\n",
      "999/999 [==============================] - 23s 23ms/step - loss: 0.0598 - mae: 0.1770 - val_loss: 1.9899 - val_mae: 0.9374\n",
      "Epoch 97/300\n",
      "999/999 [==============================] - 23s 23ms/step - loss: 0.0558 - mae: 0.1710 - val_loss: 1.9217 - val_mae: 0.9160\n",
      "Epoch 98/300\n",
      "999/999 [==============================] - 23s 23ms/step - loss: 0.0595 - mae: 0.1755 - val_loss: 1.9506 - val_mae: 0.9160\n",
      "Epoch 99/300\n",
      "999/999 [==============================] - 24s 24ms/step - loss: 0.0563 - mae: 0.1709 - val_loss: 1.9356 - val_mae: 0.9244\n",
      "Epoch 100/300\n",
      "999/999 [==============================] - 26s 26ms/step - loss: 0.0564 - mae: 0.1713 - val_loss: 1.9324 - val_mae: 0.9058\n",
      "\n",
      "Epoch 00100: ReduceLROnPlateau reducing learning rate to 4.304672074795235e-05.\n",
      "Epoch 101/300\n",
      "999/999 [==============================] - 27s 27ms/step - loss: 0.0522 - mae: 0.1662 - val_loss: 1.9498 - val_mae: 0.9182\n",
      "Epoch 102/300\n",
      "999/999 [==============================] - 23s 23ms/step - loss: 0.0540 - mae: 0.1663 - val_loss: 1.8958 - val_mae: 0.9011\n",
      "Epoch 103/300\n",
      "999/999 [==============================] - 23s 23ms/step - loss: 0.0529 - mae: 0.1652 - val_loss: 1.9490 - val_mae: 0.9138\n",
      "Epoch 104/300\n",
      "999/999 [==============================] - 23s 23ms/step - loss: 0.0494 - mae: 0.1611 - val_loss: 1.9042 - val_mae: 0.9064\n",
      "Epoch 105/300\n",
      "999/999 [==============================] - 23s 23ms/step - loss: 0.0511 - mae: 0.1627 - val_loss: 1.9144 - val_mae: 0.9139\n",
      "Epoch 106/300\n",
      "999/999 [==============================] - 27s 27ms/step - loss: 0.0533 - mae: 0.1645 - val_loss: 1.9287 - val_mae: 0.8995\n",
      "Epoch 107/300\n",
      "999/999 [==============================] - 25s 25ms/step - loss: 0.0475 - mae: 0.1584 - val_loss: 1.9175 - val_mae: 0.9140\n",
      "Epoch 108/300\n",
      "999/999 [==============================] - 23s 23ms/step - loss: 0.0489 - mae: 0.1593 - val_loss: 1.9170 - val_mae: 0.9041\n",
      "Epoch 109/300\n",
      "999/999 [==============================] - 24s 24ms/step - loss: 0.0489 - mae: 0.1579 - val_loss: 1.9831 - val_mae: 0.9175\n",
      "Epoch 110/300\n",
      "999/999 [==============================] - 23s 23ms/step - loss: 0.0497 - mae: 0.1596 - val_loss: 1.9473 - val_mae: 0.9066\n",
      "Epoch 111/300\n",
      "999/999 [==============================] - 24s 24ms/step - loss: 0.0475 - mae: 0.1569 - val_loss: 1.9444 - val_mae: 0.9214\n",
      "\n",
      "Epoch 00111: ReduceLROnPlateau reducing learning rate to 3.8742047036066654e-05.\n",
      "Epoch 112/300\n",
      "999/999 [==============================] - 29s 29ms/step - loss: 0.0490 - mae: 0.1580 - val_loss: 1.9505 - val_mae: 0.9061\n",
      "Epoch 113/300\n",
      "999/999 [==============================] - 25s 25ms/step - loss: 0.0444 - mae: 0.1510 - val_loss: 1.9453 - val_mae: 0.9068\n",
      "Epoch 114/300\n",
      "999/999 [==============================] - 24s 24ms/step - loss: 0.0426 - mae: 0.1493 - val_loss: 1.9190 - val_mae: 0.9011\n",
      "Epoch 115/300\n",
      "999/999 [==============================] - 24s 24ms/step - loss: 0.0448 - mae: 0.1517 - val_loss: 1.9099 - val_mae: 0.9101\n",
      "Epoch 116/300\n",
      "999/999 [==============================] - 23s 23ms/step - loss: 0.0424 - mae: 0.1482 - val_loss: 1.9151 - val_mae: 0.9104\n",
      "\n",
      "Epoch 00116: ReduceLROnPlateau reducing learning rate to 3.4867842987296176e-05.\n",
      "Epoch 117/300\n",
      "999/999 [==============================] - 23s 23ms/step - loss: 0.0423 - mae: 0.1482 - val_loss: 1.8957 - val_mae: 0.8971\n",
      "Epoch 118/300\n",
      "999/999 [==============================] - 30s 30ms/step - loss: 0.0407 - mae: 0.1448 - val_loss: 1.9104 - val_mae: 0.8918\n",
      "Epoch 119/300\n",
      "999/999 [==============================] - 23s 23ms/step - loss: 0.0392 - mae: 0.1433 - val_loss: 1.9213 - val_mae: 0.8975\n",
      "Epoch 120/300\n",
      "999/999 [==============================] - 23s 23ms/step - loss: 0.0398 - mae: 0.1434 - val_loss: 1.9371 - val_mae: 0.9108\n",
      "Epoch 121/300\n",
      "999/999 [==============================] - 23s 23ms/step - loss: 0.0387 - mae: 0.1414 - val_loss: 1.8792 - val_mae: 0.8951\n",
      "Epoch 122/300\n",
      "999/999 [==============================] - 23s 23ms/step - loss: 0.0398 - mae: 0.1427 - val_loss: 1.9093 - val_mae: 0.9010\n",
      "Epoch 123/300\n",
      "999/999 [==============================] - 23s 23ms/step - loss: 0.0404 - mae: 0.1433 - val_loss: 1.9122 - val_mae: 0.9047\n",
      "\n",
      "Epoch 00123: ReduceLROnPlateau reducing learning rate to 3.138105967082083e-05.\n",
      "Epoch 124/300\n",
      "999/999 [==============================] - 30s 30ms/step - loss: 0.0370 - mae: 0.1395 - val_loss: 1.9234 - val_mae: 0.8951\n",
      "Epoch 125/300\n",
      "999/999 [==============================] - 23s 23ms/step - loss: 0.0366 - mae: 0.1376 - val_loss: 1.8925 - val_mae: 0.8995\n",
      "Epoch 126/300\n",
      "999/999 [==============================] - 23s 23ms/step - loss: 0.0355 - mae: 0.1362 - val_loss: 1.9049 - val_mae: 0.8939\n",
      "Epoch 127/300\n",
      "999/999 [==============================] - 23s 23ms/step - loss: 0.0366 - mae: 0.1367 - val_loss: 1.8911 - val_mae: 0.8858\n",
      "Epoch 128/300\n",
      "999/999 [==============================] - 23s 23ms/step - loss: 0.0375 - mae: 0.1382 - val_loss: 1.9248 - val_mae: 0.8970\n",
      "Epoch 129/300\n",
      "999/999 [==============================] - 23s 23ms/step - loss: 0.0353 - mae: 0.1337 - val_loss: 1.9346 - val_mae: 0.9018\n",
      "Epoch 130/300\n",
      "999/999 [==============================] - 30s 30ms/step - loss: 0.0357 - mae: 0.1356 - val_loss: 1.8897 - val_mae: 0.8874\n",
      "Epoch 131/300\n",
      "999/999 [==============================] - 23s 23ms/step - loss: 0.0357 - mae: 0.1353 - val_loss: 1.9143 - val_mae: 0.9087\n",
      "Epoch 132/300\n",
      "999/999 [==============================] - 23s 23ms/step - loss: 0.0334 - mae: 0.1319 - val_loss: 1.9283 - val_mae: 0.9015\n",
      "\n",
      "Epoch 00132: ReduceLROnPlateau reducing learning rate to 2.824295370373875e-05.\n",
      "Epoch 133/300\n",
      "999/999 [==============================] - 23s 23ms/step - loss: 0.0339 - mae: 0.1325 - val_loss: 1.9095 - val_mae: 0.8970\n",
      "Epoch 134/300\n",
      "999/999 [==============================] - 23s 23ms/step - loss: 0.0326 - mae: 0.1305 - val_loss: 1.8961 - val_mae: 0.8871\n",
      "Epoch 135/300\n",
      "999/999 [==============================] - 23s 23ms/step - loss: 0.0336 - mae: 0.1311 - val_loss: 1.9295 - val_mae: 0.8978\n",
      "Epoch 136/300\n",
      "999/999 [==============================] - 30s 30ms/step - loss: 0.0319 - mae: 0.1280 - val_loss: 1.9245 - val_mae: 0.8957\n",
      "Epoch 137/300\n",
      "999/999 [==============================] - 24s 24ms/step - loss: 0.0315 - mae: 0.1283 - val_loss: 1.8800 - val_mae: 0.8873\n",
      "\n",
      "Epoch 00137: ReduceLROnPlateau reducing learning rate to 2.5418658333364876e-05.\n",
      "Epoch 138/300\n",
      "999/999 [==============================] - 23s 23ms/step - loss: 0.0324 - mae: 0.1285 - val_loss: 1.8713 - val_mae: 0.8853\n",
      "Epoch 139/300\n",
      "999/999 [==============================] - 24s 24ms/step - loss: 0.0309 - mae: 0.1247 - val_loss: 1.8933 - val_mae: 0.8853\n",
      "Epoch 140/300\n",
      "999/999 [==============================] - 23s 23ms/step - loss: 0.0295 - mae: 0.1246 - val_loss: 1.9246 - val_mae: 0.8952\n",
      "Epoch 141/300\n",
      "999/999 [==============================] - 23s 23ms/step - loss: 0.0313 - mae: 0.1266 - val_loss: 1.9085 - val_mae: 0.8881\n",
      "Epoch 142/300\n",
      "999/999 [==============================] - 30s 30ms/step - loss: 0.0302 - mae: 0.1245 - val_loss: 1.9096 - val_mae: 0.8847\n",
      "Epoch 143/300\n",
      "999/999 [==============================] - 25s 25ms/step - loss: 0.0291 - mae: 0.1228 - val_loss: 1.9298 - val_mae: 0.8927\n",
      "Epoch 144/300\n",
      "999/999 [==============================] - 23s 23ms/step - loss: 0.0304 - mae: 0.1253 - val_loss: 1.8922 - val_mae: 0.8950\n",
      "Epoch 145/300\n",
      "999/999 [==============================] - 23s 23ms/step - loss: 0.0284 - mae: 0.1211 - val_loss: 1.9449 - val_mae: 0.9013\n",
      "Epoch 146/300\n",
      "999/999 [==============================] - 23s 23ms/step - loss: 0.0287 - mae: 0.1216 - val_loss: 1.9333 - val_mae: 0.9062\n",
      "Epoch 147/300\n",
      "999/999 [==============================] - 23s 23ms/step - loss: 0.0273 - mae: 0.1191 - val_loss: 1.9353 - val_mae: 0.8991\n",
      "\n",
      "Epoch 00147: ReduceLROnPlateau reducing learning rate to 2.2876792172610294e-05.\n",
      "Epoch 148/300\n",
      "999/999 [==============================] - 29s 29ms/step - loss: 0.0288 - mae: 0.1198 - val_loss: 1.8982 - val_mae: 0.8864\n",
      "Epoch 149/300\n",
      "999/999 [==============================] - 26s 26ms/step - loss: 0.0283 - mae: 0.1196 - val_loss: 1.8869 - val_mae: 0.8859\n",
      "Epoch 150/300\n",
      "999/999 [==============================] - 23s 23ms/step - loss: 0.0271 - mae: 0.1180 - val_loss: 1.9053 - val_mae: 0.8884\n",
      "Epoch 151/300\n",
      "999/999 [==============================] - 23s 23ms/step - loss: 0.0258 - mae: 0.1159 - val_loss: 1.9417 - val_mae: 0.8998\n",
      "Epoch 152/300\n",
      "999/999 [==============================] - 23s 23ms/step - loss: 0.0277 - mae: 0.1181 - val_loss: 1.9115 - val_mae: 0.8874\n",
      "\n",
      "Epoch 00152: ReduceLROnPlateau reducing learning rate to 2.0589113773894496e-05.\n",
      "Epoch 153/300\n",
      "999/999 [==============================] - 23s 23ms/step - loss: 0.0258 - mae: 0.1157 - val_loss: 1.9126 - val_mae: 0.8793\n",
      "Epoch 154/300\n",
      "999/999 [==============================] - 23s 23ms/step - loss: 0.0268 - mae: 0.1157 - val_loss: 1.9028 - val_mae: 0.8843\n",
      "Epoch 155/300\n",
      "999/999 [==============================] - 23s 23ms/step - loss: 0.0250 - mae: 0.1144 - val_loss: 1.9139 - val_mae: 0.8919\n",
      "Epoch 156/300\n",
      "999/999 [==============================] - 23s 23ms/step - loss: 0.0253 - mae: 0.1136 - val_loss: 1.9381 - val_mae: 0.8973\n",
      "Epoch 157/300\n",
      "999/999 [==============================] - 23s 23ms/step - loss: 0.0262 - mae: 0.1150 - val_loss: 1.9390 - val_mae: 0.8989\n",
      "Epoch 158/300\n",
      "999/999 [==============================] - 23s 23ms/step - loss: 0.0254 - mae: 0.1141 - val_loss: 1.9096 - val_mae: 0.8918\n",
      "\n",
      "Epoch 00158: ReduceLROnPlateau reducing learning rate to 1.8530202396505047e-05.\n",
      "Epoch 159/300\n",
      "999/999 [==============================] - 26s 26ms/step - loss: 0.0250 - mae: 0.1132 - val_loss: 1.9191 - val_mae: 0.8892\n",
      "Epoch 160/300\n",
      "999/999 [==============================] - 29s 29ms/step - loss: 0.0243 - mae: 0.1115 - val_loss: 1.8772 - val_mae: 0.8788\n",
      "Epoch 161/300\n",
      "999/999 [==============================] - 23s 23ms/step - loss: 0.0242 - mae: 0.1117 - val_loss: 1.9406 - val_mae: 0.8924\n",
      "Epoch 162/300\n",
      "999/999 [==============================] - 23s 23ms/step - loss: 0.0234 - mae: 0.1108 - val_loss: 1.9094 - val_mae: 0.8985\n",
      "Epoch 163/300\n",
      "999/999 [==============================] - 23s 23ms/step - loss: 0.0228 - mae: 0.1101 - val_loss: 1.9213 - val_mae: 0.8968\n",
      "Epoch 164/300\n",
      "999/999 [==============================] - 23s 23ms/step - loss: 0.0227 - mae: 0.1100 - val_loss: 1.9324 - val_mae: 0.8921\n",
      "Epoch 165/300\n",
      "999/999 [==============================] - 23s 23ms/step - loss: 0.0230 - mae: 0.1100 - val_loss: 1.9333 - val_mae: 0.8911\n",
      "\n",
      "Epoch 00165: ReduceLROnPlateau reducing learning rate to 1.667718133830931e-05.\n",
      "Epoch 166/300\n",
      "999/999 [==============================] - 23s 23ms/step - loss: 0.0258 - mae: 0.1119 - val_loss: 1.9200 - val_mae: 0.8908\n",
      "Epoch 167/300\n",
      "999/999 [==============================] - 23s 23ms/step - loss: 0.0234 - mae: 0.1092 - val_loss: 1.9175 - val_mae: 0.8910\n",
      "Epoch 168/300\n",
      "999/999 [==============================] - 23s 23ms/step - loss: 0.0230 - mae: 0.1075 - val_loss: 1.9282 - val_mae: 0.9011\n",
      "Epoch 169/300\n",
      "999/999 [==============================] - 23s 23ms/step - loss: 0.0228 - mae: 0.1071 - val_loss: 1.9094 - val_mae: 0.8890\n",
      "Epoch 170/300\n",
      "999/999 [==============================] - 23s 23ms/step - loss: 0.0228 - mae: 0.1082 - val_loss: 1.8956 - val_mae: 0.8825\n",
      "\n",
      "Epoch 00170: ReduceLROnPlateau reducing learning rate to 1.5009462549642194e-05.\n",
      "Epoch 171/300\n",
      "999/999 [==============================] - 31s 31ms/step - loss: 0.0227 - mae: 0.1075 - val_loss: 1.9048 - val_mae: 0.8799\n",
      "Epoch 172/300\n",
      "999/999 [==============================] - 24s 24ms/step - loss: 0.0235 - mae: 0.1084 - val_loss: 1.9006 - val_mae: 0.8880\n",
      "Epoch 173/300\n",
      "999/999 [==============================] - 23s 23ms/step - loss: 0.0214 - mae: 0.1057 - val_loss: 1.9026 - val_mae: 0.8835\n",
      "Epoch 174/300\n",
      "999/999 [==============================] - 23s 23ms/step - loss: 0.0215 - mae: 0.1052 - val_loss: 1.9015 - val_mae: 0.8894\n",
      "Epoch 175/300\n",
      "999/999 [==============================] - 23s 23ms/step - loss: 0.0214 - mae: 0.1053 - val_loss: 1.9327 - val_mae: 0.8920\n",
      "\n",
      "Epoch 00175: ReduceLROnPlateau reducing learning rate to 1.3508516622096067e-05.\n",
      "Epoch 176/300\n",
      "999/999 [==============================] - 23s 23ms/step - loss: 0.0210 - mae: 0.1045 - val_loss: 1.9146 - val_mae: 0.8883\n",
      "Epoch 177/300\n",
      "999/999 [==============================] - 23s 23ms/step - loss: 0.0215 - mae: 0.1046 - val_loss: 1.9048 - val_mae: 0.8899\n",
      "Epoch 178/300\n",
      "999/999 [==============================] - 23s 23ms/step - loss: 0.0214 - mae: 0.1034 - val_loss: 1.9024 - val_mae: 0.8823\n",
      "Epoch 179/300\n",
      "999/999 [==============================] - 24s 24ms/step - loss: 0.0210 - mae: 0.1035 - val_loss: 1.9061 - val_mae: 0.8861\n",
      "Epoch 180/300\n",
      "999/999 [==============================] - 24s 24ms/step - loss: 0.0210 - mae: 0.1035 - val_loss: 1.8996 - val_mae: 0.8832\n",
      "\n",
      "Epoch 00180: ReduceLROnPlateau reducing learning rate to 1.2157664878031938e-05.\n",
      "Epoch 181/300\n",
      "999/999 [==============================] - 23s 23ms/step - loss: 0.0209 - mae: 0.1030 - val_loss: 1.9049 - val_mae: 0.8830\n",
      "Epoch 182/300\n",
      "999/999 [==============================] - 28s 28ms/step - loss: 0.0200 - mae: 0.1023 - val_loss: 1.9119 - val_mae: 0.8890\n",
      "Epoch 183/300\n",
      "999/999 [==============================] - 28s 28ms/step - loss: 0.0196 - mae: 0.1016 - val_loss: 1.9032 - val_mae: 0.8855\n",
      "Epoch 184/300\n",
      "999/999 [==============================] - 24s 24ms/step - loss: 0.0204 - mae: 0.1019 - val_loss: 1.9043 - val_mae: 0.8833\n",
      "Epoch 185/300\n",
      "999/999 [==============================] - 23s 23ms/step - loss: 0.0201 - mae: 0.1011 - val_loss: 1.9171 - val_mae: 0.8843\n",
      "\n",
      "Epoch 00185: ReduceLROnPlateau reducing learning rate to 1.0941898472083266e-05.\n",
      "Epoch 186/300\n",
      "999/999 [==============================] - 23s 23ms/step - loss: 0.0206 - mae: 0.1019 - val_loss: 1.9151 - val_mae: 0.8839\n",
      "Epoch 187/300\n",
      "999/999 [==============================] - 23s 23ms/step - loss: 0.0193 - mae: 0.0997 - val_loss: 1.9221 - val_mae: 0.8912\n",
      "Epoch 188/300\n",
      "999/999 [==============================] - 23s 23ms/step - loss: 0.0198 - mae: 0.1008 - val_loss: 1.9092 - val_mae: 0.8842\n",
      "Epoch 189/300\n",
      "999/999 [==============================] - 23s 23ms/step - loss: 0.0199 - mae: 0.1002 - val_loss: 1.9195 - val_mae: 0.8869\n",
      "Epoch 190/300\n",
      "999/999 [==============================] - 23s 23ms/step - loss: 0.0199 - mae: 0.1012 - val_loss: 1.9199 - val_mae: 0.8850\n",
      "\n",
      "Epoch 00190: ReduceLROnPlateau reducing learning rate to 9.847708952293033e-06.\n",
      "Epoch 191/300\n",
      "999/999 [==============================] - 23s 23ms/step - loss: 0.0189 - mae: 0.0996 - val_loss: 1.9113 - val_mae: 0.8835\n",
      "Epoch 192/300\n",
      "999/999 [==============================] - 23s 23ms/step - loss: 0.0187 - mae: 0.0999 - val_loss: 1.9202 - val_mae: 0.8853\n",
      "Epoch 193/300\n",
      "999/999 [==============================] - 24s 24ms/step - loss: 0.0194 - mae: 0.0993 - val_loss: 1.9285 - val_mae: 0.8867\n",
      "Epoch 194/300\n",
      "999/999 [==============================] - 32s 32ms/step - loss: 0.0194 - mae: 0.0986 - val_loss: 1.9123 - val_mae: 0.8828\n",
      "Epoch 195/300\n",
      "999/999 [==============================] - 24s 24ms/step - loss: 0.0194 - mae: 0.0994 - val_loss: 1.9151 - val_mae: 0.8861\n",
      "\n",
      "Epoch 00195: ReduceLROnPlateau reducing learning rate to 8.862937647791114e-06.\n",
      "Epoch 196/300\n",
      "999/999 [==============================] - 23s 23ms/step - loss: 0.0185 - mae: 0.0979 - val_loss: 1.9072 - val_mae: 0.8764\n",
      "Epoch 197/300\n",
      "999/999 [==============================] - 23s 23ms/step - loss: 0.0193 - mae: 0.0985 - val_loss: 1.9075 - val_mae: 0.8827\n",
      "Epoch 198/300\n",
      "999/999 [==============================] - 23s 23ms/step - loss: 0.0191 - mae: 0.0981 - val_loss: 1.9112 - val_mae: 0.8833\n",
      "Epoch 199/300\n",
      "999/999 [==============================] - 23s 23ms/step - loss: 0.0188 - mae: 0.0979 - val_loss: 1.9031 - val_mae: 0.8818\n",
      "Epoch 200/300\n",
      "999/999 [==============================] - 23s 23ms/step - loss: 0.0189 - mae: 0.0975 - val_loss: 1.8829 - val_mae: 0.8844\n",
      "Epoch 201/300\n",
      "999/999 [==============================] - 23s 23ms/step - loss: 0.0181 - mae: 0.0974 - val_loss: 1.8979 - val_mae: 0.8792\n",
      "\n",
      "Epoch 00201: ReduceLROnPlateau reducing learning rate to 7.976643883012003e-06.\n",
      "Epoch 202/300\n",
      "999/999 [==============================] - 23s 23ms/step - loss: 0.0191 - mae: 0.0968 - val_loss: 1.8935 - val_mae: 0.8739\n",
      "Epoch 203/300\n",
      "999/999 [==============================] - 23s 23ms/step - loss: 0.0182 - mae: 0.0964 - val_loss: 1.9025 - val_mae: 0.8820\n",
      "Epoch 204/300\n",
      "999/999 [==============================] - 23s 23ms/step - loss: 0.0189 - mae: 0.0970 - val_loss: 1.8956 - val_mae: 0.8803\n",
      "Epoch 205/300\n",
      "999/999 [==============================] - 28s 28ms/step - loss: 0.0184 - mae: 0.0966 - val_loss: 1.8975 - val_mae: 0.8779\n",
      "Epoch 206/300\n",
      "999/999 [==============================] - 30s 30ms/step - loss: 0.0184 - mae: 0.0965 - val_loss: 1.8999 - val_mae: 0.8768\n",
      "Epoch 207/300\n",
      "999/999 [==============================] - 23s 23ms/step - loss: 0.0173 - mae: 0.0959 - val_loss: 1.9067 - val_mae: 0.8854\n",
      "\n",
      "Epoch 00207: ReduceLROnPlateau reducing learning rate to 7.178979740274372e-06.\n",
      "Epoch 208/300\n",
      "999/999 [==============================] - 23s 23ms/step - loss: 0.0184 - mae: 0.0963 - val_loss: 1.9098 - val_mae: 0.8841\n",
      "Epoch 209/300\n",
      "999/999 [==============================] - 23s 23ms/step - loss: 0.0178 - mae: 0.0953 - val_loss: 1.9089 - val_mae: 0.8847\n",
      "Epoch 210/300\n",
      "999/999 [==============================] - 23s 23ms/step - loss: 0.0183 - mae: 0.0964 - val_loss: 1.8948 - val_mae: 0.8803\n",
      "Epoch 211/300\n",
      "999/999 [==============================] - 23s 23ms/step - loss: 0.0182 - mae: 0.0958 - val_loss: 1.8976 - val_mae: 0.8787\n",
      "Epoch 212/300\n",
      "999/999 [==============================] - 23s 23ms/step - loss: 0.0176 - mae: 0.0948 - val_loss: 1.8989 - val_mae: 0.8766\n",
      "\n",
      "Epoch 00212: ReduceLROnPlateau reducing learning rate to 6.461081602537889e-06.\n",
      "Epoch 213/300\n",
      "999/999 [==============================] - 23s 23ms/step - loss: 0.0174 - mae: 0.0948 - val_loss: 1.8912 - val_mae: 0.8772\n",
      "Epoch 214/300\n",
      "999/999 [==============================] - 23s 23ms/step - loss: 0.0181 - mae: 0.0944 - val_loss: 1.8957 - val_mae: 0.8785\n",
      "Epoch 215/300\n",
      "999/999 [==============================] - 23s 23ms/step - loss: 0.0179 - mae: 0.0949 - val_loss: 1.9163 - val_mae: 0.8847\n",
      "Epoch 216/300\n",
      "999/999 [==============================] - 23s 23ms/step - loss: 0.0185 - mae: 0.0953 - val_loss: 1.8949 - val_mae: 0.8784\n",
      "Epoch 217/300\n",
      "999/999 [==============================] - 31s 31ms/step - loss: 0.0184 - mae: 0.0945 - val_loss: 1.9043 - val_mae: 0.8794\n",
      "\n",
      "Epoch 00217: ReduceLROnPlateau reducing learning rate to 5.814973565065884e-06.\n",
      "Epoch 218/300\n",
      "999/999 [==============================] - 27s 27ms/step - loss: 0.0177 - mae: 0.0946 - val_loss: 1.8894 - val_mae: 0.8741\n",
      "Epoch 219/300\n",
      "999/999 [==============================] - 23s 23ms/step - loss: 0.0167 - mae: 0.0936 - val_loss: 1.9032 - val_mae: 0.8788\n",
      "Epoch 220/300\n",
      "999/999 [==============================] - 23s 23ms/step - loss: 0.0172 - mae: 0.0946 - val_loss: 1.9080 - val_mae: 0.8802\n",
      "Epoch 221/300\n",
      "999/999 [==============================] - 23s 23ms/step - loss: 0.0170 - mae: 0.0935 - val_loss: 1.9036 - val_mae: 0.8813\n",
      "Epoch 222/300\n",
      "999/999 [==============================] - 23s 23ms/step - loss: 0.0168 - mae: 0.0941 - val_loss: 1.9059 - val_mae: 0.8850\n",
      "\n",
      "Epoch 00222: ReduceLROnPlateau reducing learning rate to 5.233476167632034e-06.\n",
      "Epoch 223/300\n",
      "999/999 [==============================] - 23s 23ms/step - loss: 0.0171 - mae: 0.0936 - val_loss: 1.8996 - val_mae: 0.8858\n",
      "Epoch 224/300\n",
      "999/999 [==============================] - 23s 23ms/step - loss: 0.0166 - mae: 0.0924 - val_loss: 1.8956 - val_mae: 0.8797\n",
      "Epoch 225/300\n",
      "999/999 [==============================] - 23s 23ms/step - loss: 0.0174 - mae: 0.0942 - val_loss: 1.8959 - val_mae: 0.8806\n",
      "Epoch 226/300\n",
      "999/999 [==============================] - 23s 23ms/step - loss: 0.0166 - mae: 0.0927 - val_loss: 1.9012 - val_mae: 0.8800\n",
      "Epoch 227/300\n",
      "999/999 [==============================] - 23s 23ms/step - loss: 0.0173 - mae: 0.0934 - val_loss: 1.8966 - val_mae: 0.8744\n",
      "\n",
      "Epoch 00227: ReduceLROnPlateau reducing learning rate to 4.710128632723354e-06.\n",
      "Epoch 228/300\n",
      "999/999 [==============================] - 25s 25ms/step - loss: 0.0176 - mae: 0.0941 - val_loss: 1.8902 - val_mae: 0.8778\n",
      "Epoch 229/300\n",
      "999/999 [==============================] - 32s 32ms/step - loss: 0.0171 - mae: 0.0922 - val_loss: 1.8928 - val_mae: 0.8791\n",
      "Epoch 230/300\n",
      "999/999 [==============================] - 25s 25ms/step - loss: 0.0168 - mae: 0.0925 - val_loss: 1.8865 - val_mae: 0.8787\n",
      "Epoch 231/300\n",
      "999/999 [==============================] - 23s 23ms/step - loss: 0.0169 - mae: 0.0928 - val_loss: 1.8931 - val_mae: 0.8801\n",
      "Epoch 232/300\n",
      "999/999 [==============================] - 23s 23ms/step - loss: 0.0166 - mae: 0.0917 - val_loss: 1.8962 - val_mae: 0.8834\n",
      "\n",
      "Epoch 00232: ReduceLROnPlateau reducing learning rate to 4.2391156057419724e-06.\n",
      "Epoch 233/300\n",
      "999/999 [==============================] - 23s 23ms/step - loss: 0.0169 - mae: 0.0929 - val_loss: 1.8984 - val_mae: 0.8785\n",
      "Epoch 234/300\n",
      "999/999 [==============================] - 23s 23ms/step - loss: 0.0168 - mae: 0.0921 - val_loss: 1.8945 - val_mae: 0.8797\n",
      "Epoch 235/300\n",
      "999/999 [==============================] - 23s 23ms/step - loss: 0.0166 - mae: 0.0928 - val_loss: 1.8954 - val_mae: 0.8774\n",
      "Epoch 236/300\n",
      "999/999 [==============================] - 23s 23ms/step - loss: 0.0165 - mae: 0.0926 - val_loss: 1.8891 - val_mae: 0.8747\n",
      "Epoch 237/300\n",
      "999/999 [==============================] - 23s 23ms/step - loss: 0.0168 - mae: 0.0916 - val_loss: 1.8893 - val_mae: 0.8768\n",
      "\n",
      "Epoch 00237: ReduceLROnPlateau reducing learning rate to 3.815204127022298e-06.\n",
      "Epoch 238/300\n",
      "999/999 [==============================] - 23s 23ms/step - loss: 0.0165 - mae: 0.0917 - val_loss: 1.8963 - val_mae: 0.8793\n",
      "Epoch 239/300\n",
      "999/999 [==============================] - 23s 23ms/step - loss: 0.0164 - mae: 0.0911 - val_loss: 1.8958 - val_mae: 0.8800\n",
      "Epoch 240/300\n",
      "999/999 [==============================] - 26s 26ms/step - loss: 0.0169 - mae: 0.0924 - val_loss: 1.8922 - val_mae: 0.8751\n",
      "Epoch 241/300\n",
      "999/999 [==============================] - 32s 32ms/step - loss: 0.0160 - mae: 0.0918 - val_loss: 1.8981 - val_mae: 0.8764\n",
      "Epoch 242/300\n",
      "999/999 [==============================] - 25s 25ms/step - loss: 0.0165 - mae: 0.0915 - val_loss: 1.9104 - val_mae: 0.8819\n",
      "\n",
      "Epoch 00242: ReduceLROnPlateau reducing learning rate to 3.4336838780291147e-06.\n",
      "Epoch 243/300\n",
      "999/999 [==============================] - 23s 23ms/step - loss: 0.0161 - mae: 0.0906 - val_loss: 1.9047 - val_mae: 0.8803\n",
      "Epoch 244/300\n",
      "999/999 [==============================] - 23s 23ms/step - loss: 0.0162 - mae: 0.0910 - val_loss: 1.9032 - val_mae: 0.8814\n",
      "Epoch 245/300\n",
      "999/999 [==============================] - 23s 23ms/step - loss: 0.0169 - mae: 0.0917 - val_loss: 1.9088 - val_mae: 0.8845\n",
      "Epoch 246/300\n",
      "999/999 [==============================] - 23s 23ms/step - loss: 0.0159 - mae: 0.0907 - val_loss: 1.9003 - val_mae: 0.8808\n",
      "Epoch 247/300\n",
      "999/999 [==============================] - 23s 23ms/step - loss: 0.0161 - mae: 0.0914 - val_loss: 1.8964 - val_mae: 0.8756\n",
      "\n",
      "Epoch 00247: ReduceLROnPlateau reducing learning rate to 3.09031540837168e-06.\n",
      "Epoch 248/300\n",
      "999/999 [==============================] - 23s 23ms/step - loss: 0.0165 - mae: 0.0909 - val_loss: 1.9005 - val_mae: 0.8788\n",
      "Epoch 249/300\n",
      "999/999 [==============================] - 23s 23ms/step - loss: 0.0166 - mae: 0.0912 - val_loss: 1.8979 - val_mae: 0.8764\n",
      "Epoch 250/300\n",
      "999/999 [==============================] - 23s 23ms/step - loss: 0.0161 - mae: 0.0912 - val_loss: 1.9025 - val_mae: 0.8830\n",
      "Epoch 251/300\n",
      "999/999 [==============================] - 23s 23ms/step - loss: 0.0162 - mae: 0.0905 - val_loss: 1.9005 - val_mae: 0.8810\n",
      "Epoch 252/300\n",
      "999/999 [==============================] - 28s 28ms/step - loss: 0.0168 - mae: 0.0911 - val_loss: 1.9035 - val_mae: 0.8809\n",
      "\n",
      "Epoch 00252: ReduceLROnPlateau reducing learning rate to 2.781283887998143e-06.\n",
      "Epoch 253/300\n",
      "999/999 [==============================] - 32s 32ms/step - loss: 0.0153 - mae: 0.0898 - val_loss: 1.8956 - val_mae: 0.8782\n",
      "Epoch 254/300\n",
      "999/999 [==============================] - 24s 24ms/step - loss: 0.0168 - mae: 0.0910 - val_loss: 1.8998 - val_mae: 0.8765\n",
      "Epoch 255/300\n",
      "999/999 [==============================] - 23s 23ms/step - loss: 0.0156 - mae: 0.0903 - val_loss: 1.8952 - val_mae: 0.8793\n",
      "Epoch 256/300\n",
      "999/999 [==============================] - 23s 23ms/step - loss: 0.0155 - mae: 0.0900 - val_loss: 1.8959 - val_mae: 0.8799\n",
      "Epoch 257/300\n",
      "999/999 [==============================] - 23s 23ms/step - loss: 0.0158 - mae: 0.0895 - val_loss: 1.9116 - val_mae: 0.8827\n",
      "\n",
      "Epoch 00257: ReduceLROnPlateau reducing learning rate to 2.5031555196619593e-06.\n",
      "Epoch 258/300\n",
      "999/999 [==============================] - 23s 23ms/step - loss: 0.0159 - mae: 0.0906 - val_loss: 1.9011 - val_mae: 0.8796\n",
      "Epoch 259/300\n",
      "999/999 [==============================] - 23s 23ms/step - loss: 0.0161 - mae: 0.0906 - val_loss: 1.8990 - val_mae: 0.8781\n",
      "Epoch 260/300\n",
      "999/999 [==============================] - 23s 23ms/step - loss: 0.0158 - mae: 0.0900 - val_loss: 1.8998 - val_mae: 0.8782\n",
      "Epoch 261/300\n",
      "999/999 [==============================] - 23s 23ms/step - loss: 0.0162 - mae: 0.0902 - val_loss: 1.8961 - val_mae: 0.8801\n",
      "Epoch 262/300\n",
      "999/999 [==============================] - 23s 23ms/step - loss: 0.0162 - mae: 0.0901 - val_loss: 1.9021 - val_mae: 0.8829\n",
      "\n",
      "Epoch 00262: ReduceLROnPlateau reducing learning rate to 2.25283988584124e-06.\n",
      "Epoch 263/300\n",
      "999/999 [==============================] - 23s 23ms/step - loss: 0.0159 - mae: 0.0898 - val_loss: 1.9017 - val_mae: 0.8812\n",
      "Epoch 264/300\n",
      "999/999 [==============================] - 29s 29ms/step - loss: 0.0162 - mae: 0.0905 - val_loss: 1.8956 - val_mae: 0.8802\n",
      "Epoch 265/300\n",
      "999/999 [==============================] - 32s 32ms/step - loss: 0.0154 - mae: 0.0895 - val_loss: 1.8959 - val_mae: 0.8797\n",
      "Epoch 266/300\n",
      "999/999 [==============================] - 23s 23ms/step - loss: 0.0158 - mae: 0.0898 - val_loss: 1.8950 - val_mae: 0.8810\n",
      "Epoch 267/300\n",
      "999/999 [==============================] - 23s 23ms/step - loss: 0.0159 - mae: 0.0892 - val_loss: 1.8968 - val_mae: 0.8791\n",
      "\n",
      "Epoch 00267: ReduceLROnPlateau reducing learning rate to 2.0275559791116393e-06.\n",
      "Epoch 268/300\n",
      "999/999 [==============================] - 23s 23ms/step - loss: 0.0173 - mae: 0.0902 - val_loss: 1.8957 - val_mae: 0.8808\n",
      "Epoch 269/300\n",
      "999/999 [==============================] - 23s 23ms/step - loss: 0.0157 - mae: 0.0890 - val_loss: 1.8997 - val_mae: 0.8805\n",
      "Epoch 270/300\n",
      "999/999 [==============================] - 23s 23ms/step - loss: 0.0156 - mae: 0.0894 - val_loss: 1.8958 - val_mae: 0.8805\n",
      "Epoch 271/300\n",
      "999/999 [==============================] - 23s 23ms/step - loss: 0.0159 - mae: 0.0900 - val_loss: 1.8973 - val_mae: 0.8791\n",
      "Epoch 272/300\n",
      "999/999 [==============================] - 24s 24ms/step - loss: 0.0159 - mae: 0.0896 - val_loss: 1.8979 - val_mae: 0.8809\n",
      "\n",
      "Epoch 00272: ReduceLROnPlateau reducing learning rate to 1.8248004835186294e-06.\n",
      "Epoch 273/300\n",
      "999/999 [==============================] - 23s 23ms/step - loss: 0.0160 - mae: 0.0894 - val_loss: 1.8939 - val_mae: 0.8796\n",
      "Epoch 274/300\n",
      "999/999 [==============================] - 23s 23ms/step - loss: 0.0152 - mae: 0.0889 - val_loss: 1.8981 - val_mae: 0.8777\n",
      "Epoch 275/300\n",
      "999/999 [==============================] - 23s 23ms/step - loss: 0.0155 - mae: 0.0887 - val_loss: 1.8966 - val_mae: 0.8801\n",
      "Epoch 276/300\n",
      "999/999 [==============================] - 29s 29ms/step - loss: 0.0154 - mae: 0.0886 - val_loss: 1.8965 - val_mae: 0.8796\n",
      "Epoch 277/300\n",
      "999/999 [==============================] - 31s 31ms/step - loss: 0.0159 - mae: 0.0894 - val_loss: 1.8961 - val_mae: 0.8787\n",
      "\n",
      "Epoch 00277: ReduceLROnPlateau reducing learning rate to 1.6423204556303972e-06.\n",
      "Epoch 278/300\n",
      "999/999 [==============================] - 24s 24ms/step - loss: 0.0155 - mae: 0.0892 - val_loss: 1.8985 - val_mae: 0.8795\n",
      "Epoch 279/300\n",
      "999/999 [==============================] - 23s 23ms/step - loss: 0.0163 - mae: 0.0894 - val_loss: 1.8994 - val_mae: 0.8814\n",
      "Epoch 280/300\n",
      "999/999 [==============================] - 23s 23ms/step - loss: 0.0153 - mae: 0.0893 - val_loss: 1.9036 - val_mae: 0.8809\n",
      "Epoch 281/300\n",
      "999/999 [==============================] - 23s 23ms/step - loss: 0.0154 - mae: 0.0893 - val_loss: 1.9023 - val_mae: 0.8814\n",
      "Epoch 282/300\n",
      "999/999 [==============================] - 23s 23ms/step - loss: 0.0160 - mae: 0.0892 - val_loss: 1.8991 - val_mae: 0.8795\n",
      "\n",
      "Epoch 00282: ReduceLROnPlateau reducing learning rate to 1.4780884612264344e-06.\n",
      "Epoch 283/300\n",
      "999/999 [==============================] - 23s 23ms/step - loss: 0.0156 - mae: 0.0886 - val_loss: 1.9022 - val_mae: 0.8802\n",
      "Epoch 284/300\n",
      "999/999 [==============================] - 24s 24ms/step - loss: 0.0159 - mae: 0.0891 - val_loss: 1.9003 - val_mae: 0.8810\n",
      "Epoch 285/300\n",
      "999/999 [==============================] - 23s 23ms/step - loss: 0.0157 - mae: 0.0895 - val_loss: 1.9006 - val_mae: 0.8780\n",
      "Epoch 286/300\n",
      "999/999 [==============================] - 23s 23ms/step - loss: 0.0166 - mae: 0.0895 - val_loss: 1.8979 - val_mae: 0.8805\n",
      "Epoch 287/300\n",
      "999/999 [==============================] - 23s 23ms/step - loss: 0.0154 - mae: 0.0887 - val_loss: 1.8965 - val_mae: 0.8795\n",
      "\n",
      "Epoch 00287: ReduceLROnPlateau reducing learning rate to 1.3302796560310525e-06.\n",
      "Epoch 288/300\n",
      "999/999 [==============================] - 30s 30ms/step - loss: 0.0160 - mae: 0.0892 - val_loss: 1.8968 - val_mae: 0.8788\n",
      "Epoch 289/300\n",
      "999/999 [==============================] - 32s 32ms/step - loss: 0.0156 - mae: 0.0888 - val_loss: 1.8946 - val_mae: 0.8772\n",
      "Epoch 290/300\n",
      "999/999 [==============================] - 24s 24ms/step - loss: 0.0157 - mae: 0.0892 - val_loss: 1.8965 - val_mae: 0.8793\n",
      "Epoch 291/300\n",
      "999/999 [==============================] - 23s 23ms/step - loss: 0.0158 - mae: 0.0892 - val_loss: 1.8973 - val_mae: 0.8789\n",
      "Epoch 292/300\n",
      "999/999 [==============================] - 23s 23ms/step - loss: 0.0154 - mae: 0.0890 - val_loss: 1.9009 - val_mae: 0.8796\n",
      "\n",
      "Epoch 00292: ReduceLROnPlateau reducing learning rate to 1.1972517313552089e-06.\n",
      "Epoch 293/300\n",
      "999/999 [==============================] - 23s 23ms/step - loss: 0.0154 - mae: 0.0882 - val_loss: 1.8973 - val_mae: 0.8796\n",
      "Epoch 294/300\n",
      "999/999 [==============================] - 23s 23ms/step - loss: 0.0154 - mae: 0.0887 - val_loss: 1.8974 - val_mae: 0.8783\n",
      "Epoch 295/300\n",
      "999/999 [==============================] - 24s 24ms/step - loss: 0.0157 - mae: 0.0889 - val_loss: 1.8961 - val_mae: 0.8789\n",
      "Epoch 296/300\n",
      "999/999 [==============================] - 23s 23ms/step - loss: 0.0161 - mae: 0.0891 - val_loss: 1.8968 - val_mae: 0.8792\n",
      "Epoch 297/300\n",
      "999/999 [==============================] - 23s 23ms/step - loss: 0.0153 - mae: 0.0888 - val_loss: 1.8960 - val_mae: 0.8793\n",
      "\n",
      "Epoch 00297: ReduceLROnPlateau reducing learning rate to 1.0775265991469497e-06.\n",
      "Epoch 298/300\n",
      "999/999 [==============================] - 23s 23ms/step - loss: 0.0153 - mae: 0.0885 - val_loss: 1.8936 - val_mae: 0.8793\n",
      "Epoch 299/300\n",
      "999/999 [==============================] - 23s 23ms/step - loss: 0.0157 - mae: 0.0888 - val_loss: 1.8962 - val_mae: 0.8792\n",
      "Epoch 300/300\n",
      "999/999 [==============================] - 29s 29ms/step - loss: 0.0154 - mae: 0.0889 - val_loss: 1.8961 - val_mae: 0.8790\n"
     ]
    }
   ],
   "source": [
    "EPOCHS=300\n",
    "BATCH_SIZE=64\n",
    "# start training\n",
    "history=model.fit(image_array,Y_train,\n",
    "                 validation_data=(X_test,Y_test),\n",
    "                 batch_size=BATCH_SIZE,\n",
    "                 epochs=EPOCHS,\n",
    "                 callbacks=[model_checkpoint,reduce_lr])\n",
    "#run"
   ]
  },
  {
   "cell_type": "code",
   "execution_count": 28,
   "id": "intimate-consciousness",
   "metadata": {
    "execution": {
     "iopub.execute_input": "2021-05-11T02:15:45.857509Z",
     "iopub.status.busy": "2021-05-11T02:15:45.856694Z",
     "iopub.status.idle": "2021-05-11T02:15:45.858778Z",
     "shell.execute_reply": "2021-05-11T02:15:45.859148Z"
    },
    "papermill": {
     "duration": 31.011698,
     "end_time": "2021-05-11T02:15:45.859295",
     "exception": false,
     "start_time": "2021-05-11T02:15:14.847597",
     "status": "completed"
    },
    "tags": []
   },
   "outputs": [],
   "source": [
    "# you can increase more data as 2 gb ram memory is left\n",
    "# this will take time"
   ]
  },
  {
   "cell_type": "code",
   "execution_count": 29,
   "id": "demographic-accreditation",
   "metadata": {
    "execution": {
     "iopub.execute_input": "2021-05-11T02:16:48.281229Z",
     "iopub.status.busy": "2021-05-11T02:16:48.245608Z",
     "iopub.status.idle": "2021-05-11T02:16:49.185717Z",
     "shell.execute_reply": "2021-05-11T02:16:49.184976Z"
    },
    "papermill": {
     "duration": 32.154399,
     "end_time": "2021-05-11T02:16:49.185851",
     "exception": false,
     "start_time": "2021-05-11T02:16:17.031452",
     "status": "completed"
    },
    "tags": []
   },
   "outputs": [
    {
     "data": {
      "text/plain": [
       "<tensorflow.python.training.tracking.util.CheckpointLoadStatus at 0x7fdbac09d210>"
      ]
     },
     "execution_count": 29,
     "metadata": {},
     "output_type": "execute_result"
    }
   ],
   "source": [
    "# after training is finished \n",
    "# load best model\n",
    "model.load_weights(ckp_path)"
   ]
  },
  {
   "cell_type": "code",
   "execution_count": 30,
   "id": "competitive-provision",
   "metadata": {
    "execution": {
     "iopub.execute_input": "2021-05-11T02:17:51.831871Z",
     "iopub.status.busy": "2021-05-11T02:17:51.830890Z",
     "iopub.status.idle": "2021-05-11T02:17:53.409261Z",
     "shell.execute_reply": "2021-05-11T02:17:53.408189Z"
    },
    "papermill": {
     "duration": 32.769721,
     "end_time": "2021-05-11T02:17:53.409393",
     "exception": false,
     "start_time": "2021-05-11T02:17:20.639672",
     "status": "completed"
    },
    "tags": []
   },
   "outputs": [],
   "source": [
    "# if you want to see result\n",
    "prediction_val=model.predict(X_test,batch_size=BATCH_SIZE)\n"
   ]
  },
  {
   "cell_type": "code",
   "execution_count": 31,
   "id": "electronic-priority",
   "metadata": {
    "execution": {
     "iopub.execute_input": "2021-05-11T02:18:56.162078Z",
     "iopub.status.busy": "2021-05-11T02:18:56.161010Z",
     "iopub.status.idle": "2021-05-11T02:18:56.163915Z",
     "shell.execute_reply": "2021-05-11T02:18:56.163324Z"
    },
    "papermill": {
     "duration": 31.559236,
     "end_time": "2021-05-11T02:18:56.164043",
     "exception": false,
     "start_time": "2021-05-11T02:18:24.604807",
     "status": "completed"
    },
    "tags": []
   },
   "outputs": [],
   "source": [
    "# remember X_test is use for validation and for testing \n",
    "# to get beffer result use different data for validation and testing"
   ]
  },
  {
   "cell_type": "code",
   "execution_count": 32,
   "id": "great-azerbaijan",
   "metadata": {
    "execution": {
     "iopub.execute_input": "2021-05-11T02:19:58.386446Z",
     "iopub.status.busy": "2021-05-11T02:19:58.385629Z",
     "iopub.status.idle": "2021-05-11T02:19:58.388627Z",
     "shell.execute_reply": "2021-05-11T02:19:58.389100Z"
    },
    "papermill": {
     "duration": 30.931012,
     "end_time": "2021-05-11T02:19:58.389250",
     "exception": false,
     "start_time": "2021-05-11T02:19:27.458238",
     "status": "completed"
    },
    "tags": []
   },
   "outputs": [
    {
     "data": {
      "text/plain": [
       "array([[3.784317 ],\n",
       "       [4.1156797],\n",
       "       [3.1610758],\n",
       "       [2.7373793],\n",
       "       [2.9713798],\n",
       "       [5.982994 ],\n",
       "       [3.259957 ],\n",
       "       [4.4208355],\n",
       "       [1.860516 ],\n",
       "       [3.2986178]], dtype=float32)"
      ]
     },
     "execution_count": 32,
     "metadata": {},
     "output_type": "execute_result"
    }
   ],
   "source": [
    "# prediction value \n",
    "prediction_val[:10]"
   ]
  },
  {
   "cell_type": "code",
   "execution_count": 33,
   "id": "involved-cookie",
   "metadata": {
    "execution": {
     "iopub.execute_input": "2021-05-11T02:21:00.511393Z",
     "iopub.status.busy": "2021-05-11T02:21:00.510520Z",
     "iopub.status.idle": "2021-05-11T02:21:00.514068Z",
     "shell.execute_reply": "2021-05-11T02:21:00.512098Z"
    },
    "papermill": {
     "duration": 30.964886,
     "end_time": "2021-05-11T02:21:00.514266",
     "exception": false,
     "start_time": "2021-05-11T02:20:29.549380",
     "status": "completed"
    },
    "tags": []
   },
   "outputs": [
    {
     "data": {
      "text/plain": [
       "array([4, 4, 3, 3, 3, 6, 3, 3, 2, 4])"
      ]
     },
     "execution_count": 33,
     "metadata": {},
     "output_type": "execute_result"
    }
   ],
   "source": [
    "# original value\n",
    "Y_test[:10]"
   ]
  },
  {
   "cell_type": "code",
   "execution_count": 34,
   "id": "frank-cinema",
   "metadata": {
    "execution": {
     "iopub.execute_input": "2021-05-11T02:22:02.644178Z",
     "iopub.status.busy": "2021-05-11T02:22:02.643395Z",
     "iopub.status.idle": "2021-05-11T02:22:29.870114Z",
     "shell.execute_reply": "2021-05-11T02:22:29.869602Z"
    },
    "papermill": {
     "duration": 58.251585,
     "end_time": "2021-05-11T02:22:29.870259",
     "exception": false,
     "start_time": "2021-05-11T02:21:31.618674",
     "status": "completed"
    },
    "tags": []
   },
   "outputs": [],
   "source": [
    "# now convert model to tensorflow lite model \n",
    "converter=tf.lite.TFLiteConverter.from_keras_model(model)\n",
    "tflite_model=converter.convert()\n",
    "\n",
    "#save model \n",
    "with open(\"model.tflite\",\"wb\") as f:\n",
    "    f.write(tflite_model)"
   ]
  },
  {
   "cell_type": "code",
   "execution_count": 35,
   "id": "digital-communist",
   "metadata": {
    "execution": {
     "iopub.execute_input": "2021-05-11T02:23:32.581491Z",
     "iopub.status.busy": "2021-05-11T02:23:32.580204Z",
     "iopub.status.idle": "2021-05-11T02:23:32.582494Z",
     "shell.execute_reply": "2021-05-11T02:23:32.582908Z"
    },
    "papermill": {
     "duration": 31.361703,
     "end_time": "2021-05-11T02:23:32.583039",
     "exception": false,
     "start_time": "2021-05-11T02:23:01.221336",
     "status": "completed"
    },
    "tags": []
   },
   "outputs": [],
   "source": [
    "# save this version"
   ]
  },
  {
   "cell_type": "code",
   "execution_count": null,
   "id": "sexual-gender",
   "metadata": {
    "papermill": {
     "duration": 31.165327,
     "end_time": "2021-05-11T02:24:35.009279",
     "exception": false,
     "start_time": "2021-05-11T02:24:03.843952",
     "status": "completed"
    },
    "tags": []
   },
   "outputs": [],
   "source": []
  },
  {
   "cell_type": "code",
   "execution_count": null,
   "id": "adverse-jacket",
   "metadata": {
    "papermill": {
     "duration": 31.212248,
     "end_time": "2021-05-11T02:25:37.036906",
     "exception": false,
     "start_time": "2021-05-11T02:25:05.824658",
     "status": "completed"
    },
    "tags": []
   },
   "outputs": [],
   "source": []
  },
  {
   "cell_type": "code",
   "execution_count": null,
   "id": "ceramic-projection",
   "metadata": {
    "papermill": {
     "duration": 31.221497,
     "end_time": "2021-05-11T02:26:39.617897",
     "exception": false,
     "start_time": "2021-05-11T02:26:08.396400",
     "status": "completed"
    },
    "tags": []
   },
   "outputs": [],
   "source": []
  },
  {
   "cell_type": "code",
   "execution_count": null,
   "id": "located-recognition",
   "metadata": {
    "papermill": {
     "duration": 31.251664,
     "end_time": "2021-05-11T02:27:41.725676",
     "exception": false,
     "start_time": "2021-05-11T02:27:10.474012",
     "status": "completed"
    },
    "tags": []
   },
   "outputs": [],
   "source": []
  },
  {
   "cell_type": "code",
   "execution_count": null,
   "id": "modular-certification",
   "metadata": {
    "papermill": {
     "duration": 31.060611,
     "end_time": "2021-05-11T02:28:43.888224",
     "exception": false,
     "start_time": "2021-05-11T02:28:12.827613",
     "status": "completed"
    },
    "tags": []
   },
   "outputs": [],
   "source": []
  },
  {
   "cell_type": "code",
   "execution_count": null,
   "id": "social-crowd",
   "metadata": {
    "papermill": {
     "duration": 31.574093,
     "end_time": "2021-05-11T02:29:46.981366",
     "exception": false,
     "start_time": "2021-05-11T02:29:15.407273",
     "status": "completed"
    },
    "tags": []
   },
   "outputs": [],
   "source": []
  },
  {
   "cell_type": "code",
   "execution_count": 36,
   "id": "sublime-infrared",
   "metadata": {
    "execution": {
     "iopub.execute_input": "2021-05-11T02:30:49.105479Z",
     "iopub.status.busy": "2021-05-11T02:30:49.103857Z",
     "iopub.status.idle": "2021-05-11T02:30:49.106191Z",
     "shell.execute_reply": "2021-05-11T02:30:49.106654Z"
    },
    "papermill": {
     "duration": 31.212129,
     "end_time": "2021-05-11T02:30:49.106794",
     "exception": false,
     "start_time": "2021-05-11T02:30:17.894665",
     "status": "completed"
    },
    "tags": []
   },
   "outputs": [],
   "source": [
    "#"
   ]
  }
 ],
 "metadata": {
  "kernelspec": {
   "display_name": "Python 3",
   "language": "python",
   "name": "python3"
  },
  "language_info": {
   "codemirror_mode": {
    "name": "ipython",
    "version": 3
   },
   "file_extension": ".py",
   "mimetype": "text/x-python",
   "name": "python",
   "nbconvert_exporter": "python",
   "pygments_lexer": "ipython3",
   "version": "3.7.10"
  },
  "papermill": {
   "default_parameters": {},
   "duration": 9131.192203,
   "end_time": "2021-05-11T02:31:23.776919",
   "environment_variables": {},
   "exception": null,
   "input_path": "__notebook__.ipynb",
   "output_path": "__notebook__.ipynb",
   "parameters": {},
   "start_time": "2021-05-10T23:59:12.584716",
   "version": "2.3.3"
  }
 },
 "nbformat": 4,
 "nbformat_minor": 5
}
